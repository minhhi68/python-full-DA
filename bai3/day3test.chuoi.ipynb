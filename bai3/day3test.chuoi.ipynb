{
 "cells": [
  {
   "cell_type": "code",
   "execution_count": 3,
   "id": "86543dce",
   "metadata": {},
   "outputs": [
    {
     "name": "stdout",
     "output_type": "stream",
     "text": [
      "H\n"
     ]
    }
   ],
   "source": [
    "greeting = 'HELLO PYTHON'\n",
    "print(greeting[9])"
   ]
  },
  {
   "cell_type": "code",
   "execution_count": 4,
   "id": "3dad3d07",
   "metadata": {},
   "outputs": [
    {
     "name": "stdout",
     "output_type": "stream",
     "text": [
      "<class 'str'>\n",
      "<class 'float'>\n"
     ]
    }
   ],
   "source": [
    "# Chuỗi thuộc lớp str ( chuỗi )\n",
    "print(type(greeting))\n",
    "x = 5.6 \n",
    "print(type(x))"
   ]
  },
  {
   "cell_type": "code",
   "execution_count": 7,
   "id": "074db1fc",
   "metadata": {},
   "outputs": [
    {
     "name": "stdout",
     "output_type": "stream",
     "text": [
      "12\n"
     ]
    }
   ],
   "source": [
    "print(len(greeting)) # Độ dài chuỗi"
   ]
  },
  {
   "cell_type": "code",
   "execution_count": 9,
   "id": "ba1717e3",
   "metadata": {},
   "outputs": [
    {
     "name": "stdout",
     "output_type": "stream",
     "text": [
      "H\n",
      "E\n",
      "L\n",
      "L\n",
      "O\n",
      " \n",
      "P\n",
      "Y\n",
      "T\n",
      "H\n",
      "O\n",
      "N\n"
     ]
    }
   ],
   "source": [
    "for char in greeting:\n",
    "    print(char)"
   ]
  },
  {
   "cell_type": "code",
   "execution_count": 10,
   "id": "a3b3ef59",
   "metadata": {},
   "outputs": [
    {
     "ename": "TypeError",
     "evalue": "'str' object does not support item assignment",
     "output_type": "error",
     "traceback": [
      "\u001b[1;31m---------------------------------------------------------------------------\u001b[0m",
      "\u001b[1;31mTypeError\u001b[0m                                 Traceback (most recent call last)",
      "Cell \u001b[1;32mIn[10], line 1\u001b[0m\n\u001b[1;32m----> 1\u001b[0m greeting[\u001b[38;5;241m6\u001b[39m] \u001b[38;5;241m=\u001b[39m \u001b[38;5;124m\"\u001b[39m\u001b[38;5;124mJ\u001b[39m\u001b[38;5;124m\"\u001b[39m\n",
      "\u001b[1;31mTypeError\u001b[0m: 'str' object does not support item assignment"
     ]
    }
   ],
   "source": [
    "greeting[6] = \"J\""
   ]
  },
  {
   "cell_type": "code",
   "execution_count": 13,
   "id": "aeb0a7de",
   "metadata": {},
   "outputs": [
    {
     "data": {
      "text/plain": [
       "'HELLO JYTHON'"
      ]
     },
     "execution_count": 13,
     "metadata": {},
     "output_type": "execute_result"
    }
   ],
   "source": [
    "#Muốn thay đổi chuỗi thì phải tạo một chuỗi mới\n",
    "s = greeting[:6] + \"J\" + greeting[7:]\n",
    "s"
   ]
  },
  {
   "cell_type": "code",
   "execution_count": 15,
   "id": "66974fdc",
   "metadata": {},
   "outputs": [
    {
     "data": {
      "text/plain": [
       "'nguyen minh huy'"
      ]
     },
     "execution_count": 15,
     "metadata": {},
     "output_type": "execute_result"
    }
   ],
   "source": [
    "ten = 'Nguyen Minh Huy'\n",
    "ten.lower() # Chuyển thành chữ thường"
   ]
  },
  {
   "cell_type": "code",
   "execution_count": 16,
   "id": "5fa8f189",
   "metadata": {},
   "outputs": [
    {
     "data": {
      "text/plain": [
       "' NGUYEN MINH HUY'"
      ]
     },
     "execution_count": 16,
     "metadata": {},
     "output_type": "execute_result"
    }
   ],
   "source": [
    "ten = ' nguyen minh huy'\n",
    "ten.upper() # Chuyển thành chữ hoa"
   ]
  },
  {
   "cell_type": "code",
   "execution_count": 17,
   "id": "0a47aee7",
   "metadata": {},
   "outputs": [
    {
     "data": {
      "text/plain": [
       "'Nguyen Minh Huy'"
      ]
     },
     "execution_count": 17,
     "metadata": {},
     "output_type": "execute_result"
    }
   ],
   "source": [
    "ten = 'Nguyen Minh Huy'\n",
    "tem.title() # Chuyển thành chữ hoa chữ đầu tiên"
   ]
  },
  {
   "cell_type": "code",
   "execution_count": 18,
   "id": "6211a920",
   "metadata": {},
   "outputs": [
    {
     "data": {
      "text/plain": [
       "'Nguyen Minh Huy'"
      ]
     },
     "execution_count": 18,
     "metadata": {},
     "output_type": "execute_result"
    }
   ],
   "source": [
    "#loại bỏ character đầu và cuối chuỗi. mặc định là loại bỏ khoảng trắng\n",
    "\n",
    "ten_dang_nhap = '   Nguyen Minh Huy   '\n",
    "ten_dang_nhap.strip() # loại bỏ khoảng trắng đầu và cuối chuỗi  \n"
   ]
  },
  {
   "cell_type": "code",
   "execution_count": 20,
   "id": "348aa486",
   "metadata": {},
   "outputs": [
    {
     "data": {
      "text/plain": [
       "' Nguyen Minh Huy '"
      ]
     },
     "execution_count": 20,
     "metadata": {},
     "output_type": "execute_result"
    }
   ],
   "source": [
    "s = ' Nguyen Minh Huy **'\n",
    "s.strip('*')\n"
   ]
  },
  {
   "cell_type": "code",
   "execution_count": 21,
   "id": "6ad97b06",
   "metadata": {},
   "outputs": [
    {
     "data": {
      "text/plain": [
       "'Nguyễn Minh Huy'"
      ]
     },
     "execution_count": 21,
     "metadata": {},
     "output_type": "execute_result"
    }
   ],
   "source": [
    "#ham replace\n",
    "ten = 'Nguyen Minh Huy'\n",
    "ten.replace('Nguyen', 'Nguyễn') # thay thế chuỗi\n"
   ]
  },
  {
   "cell_type": "code",
   "execution_count": 22,
   "id": "6b7f80cd",
   "metadata": {},
   "outputs": [
    {
     "data": {
      "text/plain": [
       "['Thanh', 'pho', 'Ha', 'Noi']"
      ]
     },
     "execution_count": 22,
     "metadata": {},
     "output_type": "execute_result"
    }
   ],
   "source": [
    "#split \n",
    "chuoi = 'Thanh pho Ha Noi'\n",
    "chuoi.split() # tách chuỗi thành list\n"
   ]
  },
  {
   "cell_type": "code",
   "execution_count": 26,
   "id": "6629c581",
   "metadata": {},
   "outputs": [
    {
     "data": {
      "text/plain": [
       "'Sai Gon - Ha Noi - Da Nang'"
      ]
     },
     "execution_count": 26,
     "metadata": {},
     "output_type": "execute_result"
    }
   ],
   "source": [
    "#join => noi cac doi tuong chuoi trong iterable voi nhau\n",
    "list_chuoi = ['Sai Gon', 'Ha Noi', 'Da Nang']\n",
    "\n",
    "' - ' .join(list_chuoi) # noi cac chuoi trong\n"
   ]
  },
  {
   "cell_type": "code",
   "execution_count": 29,
   "id": "77026f70",
   "metadata": {},
   "outputs": [
    {
     "name": "stdout",
     "output_type": "stream",
     "text": [
      "Py\n",
      "thon\n",
      "Py\n",
      "Pto\n",
      "nohtyP\n",
      "yh\n",
      "Pyth\n"
     ]
    }
   ],
   "source": [
    "s = 'Python'\n",
    "print(s[0:2]) # lay tu 0 den 2\n",
    "print(s[2:])  # lay tu 2 den het\n",
    "print(s[:2])  # lay tu 0 den 2\n",
    "print(s[::2]) # lay tu 0 den het, buoc nhay 2\n",
    "print(s[::-1]) # lay tu 0 den het, buoc nhay -1\n",
    "print(s[1:5:2]) # lay tu 1 den 5, buoc nhay 2\n",
    "print(s[:4])"
   ]
  },
  {
   "cell_type": "code",
   "execution_count": 31,
   "id": "ec9f11c2",
   "metadata": {},
   "outputs": [
    {
     "data": {
      "text/plain": [
       "2"
      ]
     },
     "execution_count": 31,
     "metadata": {},
     "output_type": "execute_result"
    }
   ],
   "source": [
    "ten = 'Nguyen Minh Huy'\n",
    "ten.count('n') # đếm số lần xuất hiện của ký tự N\n",
    "\n"
   ]
  },
  {
   "cell_type": "code",
   "execution_count": 32,
   "id": "e3a5b16a",
   "metadata": {},
   "outputs": [
    {
     "name": "stdout",
     "output_type": "stream",
     "text": [
      "Hello World\n"
     ]
    }
   ],
   "source": [
    "# nối chuỗi\n",
    "s1 = 'Hello'\n",
    "s2 = 'World'\n",
    "s3 = s1 + ' ' + s2\n",
    "print(s3) # Hello World"
   ]
  },
  {
   "cell_type": "code",
   "execution_count": 33,
   "id": "ebc2779e",
   "metadata": {},
   "outputs": [
    {
     "name": "stdout",
     "output_type": "stream",
     "text": [
      "HaHaHa\n"
     ]
    }
   ],
   "source": [
    "#Lập chuỗi\n",
    "s = \"Ha\"\n",
    "print(s * 3) # HaHaHa\n"
   ]
  },
  {
   "cell_type": "code",
   "execution_count": null,
   "id": "5ca55671",
   "metadata": {},
   "outputs": [],
   "source": []
  }
 ],
 "metadata": {
  "kernelspec": {
   "display_name": "base",
   "language": "python",
   "name": "python3"
  },
  "language_info": {
   "codemirror_mode": {
    "name": "ipython",
    "version": 3
   },
   "file_extension": ".py",
   "mimetype": "text/x-python",
   "name": "python",
   "nbconvert_exporter": "python",
   "pygments_lexer": "ipython3",
   "version": "3.12.7"
  }
 },
 "nbformat": 4,
 "nbformat_minor": 5
}
