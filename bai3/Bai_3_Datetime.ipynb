{
 "cells": [
  {
   "cell_type": "markdown",
   "id": "529d8a8a-6568-4c05-bd28-55b384f3c09d",
   "metadata": {},
   "source": [
    "# 2.Xử lý datetime\n",
    "Trong Python, module datetime được sử dụng để làm việc với ngày tháng và thời gian. Nó cung cấp các lớp và phương thức mạnh mẽ để tạo, thao tác và định dạng ngày giờ.  \n",
    "Các lớp quan trọng trong module datetime"
   ]
  },
  {
   "cell_type": "markdown",
   "id": "f0040d96-3319-44cc-bf3e-45feef0f33fa",
   "metadata": {},
   "source": [
    "### a. datetime.datetime  \n",
    "Đây là lớp phổ biến nhất, đại diện cho ngày và giờ."
   ]
  },
  {
   "cell_type": "code",
   "execution_count": 1,
   "id": "34112fe3-deef-4442-a74c-ec49206e2520",
   "metadata": {},
   "outputs": [],
   "source": [
    "from datetime import datetime # Chỉ import lớp datetime\n",
    "# import datetime"
   ]
  },
  {
   "cell_type": "code",
   "execution_count": 4,
   "id": "d272f76d-080b-40e7-8e6f-a40ba5e65507",
   "metadata": {},
   "outputs": [
    {
     "name": "stdout",
     "output_type": "stream",
     "text": [
      "2025-05-17 15:52:39.272074\n"
     ]
    }
   ],
   "source": [
    "# Lấy thời gian hiện tại\n",
    "now = datetime.now()  # Lấy thời gian hiện tại\n",
    "print(now)   # Ví dụ: 2025-03-11 14:30:15.123456\n"
   ]
  },
  {
   "cell_type": "code",
   "execution_count": 3,
   "id": "e79f8e9e-0ee4-49ff-926c-682a744d5c24",
   "metadata": {},
   "outputs": [
    {
     "name": "stdout",
     "output_type": "stream",
     "text": [
      "Năm: 2025\n",
      "Tháng: 5\n",
      "Ngày: 15\n",
      "Giờ: 13\n",
      "Phút: 26\n",
      "Giây: 37\n"
     ]
    }
   ],
   "source": [
    "# Năm tháng ngày \n",
    "print(\"Năm:\", now.year)\n",
    "print(\"Tháng:\", now.month)\n",
    "print(\"Ngày:\", now.day)\n",
    "# Giờ phút giây \n",
    "print(\"Giờ:\", now.hour)\n",
    "print(\"Phút:\", now.minute)\n",
    "print(\"Giây:\", now.second)"
   ]
  },
  {
   "cell_type": "code",
   "execution_count": 5,
   "id": "48f3364b-b948-4df7-ad7f-8a7bb5ee5164",
   "metadata": {},
   "outputs": [
    {
     "name": "stdout",
     "output_type": "stream",
     "text": [
      "2025-03-11 14:30:00\n",
      "<class 'datetime.datetime'>\n"
     ]
    }
   ],
   "source": [
    "# Tạo một đối tượng datetime tùy chỉnh\n",
    "dt = datetime(2025, 3, 11, 14, 30, 0)\n",
    "print(dt)  # 2025-03-11 14:30:00\n",
    "print(type(dt))"
   ]
  },
  {
   "cell_type": "markdown",
   "id": "2c002719-a0ce-489a-ad18-ed38dd5de6ea",
   "metadata": {},
   "source": [
    "### b. datetime.date  \n",
    "Lớp này chỉ làm việc với ngày (không có giờ)."
   ]
  },
  {
   "cell_type": "code",
   "execution_count": 7,
   "id": "fe458d0c-c7d4-4516-a79e-84da77723643",
   "metadata": {},
   "outputs": [],
   "source": [
    "from datetime import date # Chỉ import lớp date"
   ]
  },
  {
   "cell_type": "code",
   "execution_count": 8,
   "id": "d529824f-6fd1-4063-9b41-306f5b10e3e9",
   "metadata": {},
   "outputs": [
    {
     "name": "stdout",
     "output_type": "stream",
     "text": [
      "2025-05-17\n"
     ]
    }
   ],
   "source": [
    "# Trả về ngày hiện hành\n",
    "today = date.today()\n",
    "print(today)  # Ví dụ: 2025-03-11"
   ]
  },
  {
   "cell_type": "code",
   "execution_count": 9,
   "id": "c54cd8f0-c1b0-4686-b42b-fbf989516bf1",
   "metadata": {},
   "outputs": [
    {
     "name": "stdout",
     "output_type": "stream",
     "text": [
      "2025\n",
      "5\n",
      "17\n"
     ]
    }
   ],
   "source": [
    "print(today.year)\n",
    "print(today.month)\n",
    "print(today.day)"
   ]
  },
  {
   "cell_type": "code",
   "execution_count": 10,
   "id": "34434950-a367-4a11-87df-213ebed71028",
   "metadata": {},
   "outputs": [
    {
     "name": "stdout",
     "output_type": "stream",
     "text": [
      "2025-03-11\n",
      "<class 'datetime.date'>\n"
     ]
    }
   ],
   "source": [
    "# Tạo một đối tượng date cụ thể:\n",
    "d = date(2025, 3, 11)\n",
    "print(d)  # 2025-03-11\n",
    "print(type(d))"
   ]
  },
  {
   "cell_type": "markdown",
   "id": "efa206c5-dbfa-4621-9c88-bec9e1fba623",
   "metadata": {},
   "source": [
    "### c. datetime.time  \n",
    "Lớp này chỉ lưu trữ giờ, phút, giây."
   ]
  },
  {
   "cell_type": "code",
   "execution_count": 9,
   "id": "f52f3028-923c-4174-90f6-6f97d03e1331",
   "metadata": {},
   "outputs": [],
   "source": [
    "from datetime import time"
   ]
  },
  {
   "cell_type": "code",
   "execution_count": 10,
   "id": "8ff3f20f-7acc-43dd-bf0a-306b5ead8a1c",
   "metadata": {},
   "outputs": [
    {
     "name": "stdout",
     "output_type": "stream",
     "text": [
      "14:30:00\n"
     ]
    }
   ],
   "source": [
    "t = time(14, 30, 0)\n",
    "print(t)  # 14:30:00"
   ]
  },
  {
   "cell_type": "code",
   "execution_count": 12,
   "id": "737c0cef-fe1f-4587-b552-5bff60ecd0c8",
   "metadata": {},
   "outputs": [
    {
     "name": "stdout",
     "output_type": "stream",
     "text": [
      "14\n",
      "30\n",
      "0\n"
     ]
    }
   ],
   "source": [
    "print(t.hour)\n",
    "print(t.minute)\n",
    "print(t.second)"
   ]
  },
  {
   "cell_type": "code",
   "execution_count": 11,
   "id": "94fff31e-8ee3-4af1-981d-91db7d885ab9",
   "metadata": {},
   "outputs": [
    {
     "data": {
      "text/plain": [
       "time.struct_time(tm_year=2025, tm_mon=5, tm_mday=17, tm_hour=16, tm_min=4, tm_sec=23, tm_wday=5, tm_yday=137, tm_isdst=0)"
      ]
     },
     "execution_count": 11,
     "metadata": {},
     "output_type": "execute_result"
    }
   ],
   "source": [
    "import time\n",
    "# Lấy thời gian hiện tại (giờ hệ thống)\n",
    "current_time = time.localtime()\n",
    "current_time"
   ]
  },
  {
   "cell_type": "code",
   "execution_count": 12,
   "id": "4fb54bb9-c984-4d18-bf14-772107cb4b80",
   "metadata": {},
   "outputs": [
    {
     "name": "stdout",
     "output_type": "stream",
     "text": [
      "2025\n"
     ]
    }
   ],
   "source": [
    "print(current_time.tm_year)"
   ]
  },
  {
   "cell_type": "markdown",
   "id": "82e44c36-9f31-4e7e-a0e2-8c12211ccff1",
   "metadata": {},
   "source": [
    "### d. datetime.timedelta  \n",
    "Lớp này được sử dụng để thực hiện phép toán với ngày giờ."
   ]
  },
  {
   "cell_type": "code",
   "execution_count": 14,
   "id": "ff314614-e421-4a0d-8361-0caa978ccd96",
   "metadata": {},
   "outputs": [],
   "source": [
    "from datetime import datetime, timedelta"
   ]
  },
  {
   "cell_type": "code",
   "execution_count": 15,
   "id": "7723185d-a53a-4c01-87a4-1ecfbaa40444",
   "metadata": {},
   "outputs": [
    {
     "name": "stdout",
     "output_type": "stream",
     "text": [
      "2025-05-18 16:06:31.013387\n"
     ]
    }
   ],
   "source": [
    "tomorrow = datetime.now() + timedelta(days=1)\n",
    "print(tomorrow)  # Thời gian hiện tại + 1 ngày\n"
   ]
  },
  {
   "cell_type": "code",
   "execution_count": 66,
   "id": "a4f2ea07-1ec8-4cbc-98bc-3cd821b5f243",
   "metadata": {},
   "outputs": [],
   "source": [
    "import datetime # import toàn bộ module datetime"
   ]
  },
  {
   "cell_type": "code",
   "execution_count": 67,
   "id": "6c59c226-69a4-48fd-9b77-31785dceb2a9",
   "metadata": {},
   "outputs": [
    {
     "name": "stdout",
     "output_type": "stream",
     "text": [
      "Hôm nay: 2025-04-05\n",
      "Ngày hiện tại: 5\n",
      "Tháng hiện tại: 4\n",
      "Năm hiện tại: 2025\n"
     ]
    }
   ],
   "source": [
    "hom_nay = datetime.date.today()\n",
    "print('Hôm nay:', hom_nay)\n",
    "print('Ngày hiện tại:', hom_nay.day)\n",
    "print('Tháng hiện tại:', hom_nay.month)\n",
    "print('Năm hiện tại:', hom_nay.year)"
   ]
  },
  {
   "attachments": {},
   "cell_type": "markdown",
   "id": "d4f34bc8-b79c-4d49-98d5-a9ba93b3acb2",
   "metadata": {},
   "source": [
    "### Định dạng chuỗi thời gian  \n",
    "Bạn có thể chuyển đổi datetime thành chuỗi (str) hoặc ngược lại (str thành datetime) bằng strftime() và strptime()."
   ]
  },
  {
   "cell_type": "code",
   "execution_count": 68,
   "id": "48e04ce9-65b2-4c38-8c92-ce38f5808748",
   "metadata": {},
   "outputs": [],
   "source": [
    "from datetime import datetime"
   ]
  },
  {
   "cell_type": "code",
   "execution_count": 16,
   "id": "f5bd5601-d2fb-472a-9f60-2e1f6ee36000",
   "metadata": {},
   "outputs": [
    {
     "name": "stdout",
     "output_type": "stream",
     "text": [
      "2025-05-17 16:08:56.559464\n",
      "2025-05-17 16:08:56\n"
     ]
    }
   ],
   "source": [
    "# Chuyển datetime thành chuỗi: \n",
    "dt = datetime.now()\n",
    "print(dt)\n",
    "formatted = dt.strftime(\"%Y-%m-%d %H:%M:%S\")\n",
    "print(formatted)  # Ví dụ: 2025-03-11 14:30:15"
   ]
  },
  {
   "cell_type": "code",
   "execution_count": 73,
   "id": "f192e7b5-10c4-4a30-aacf-67599816bc07",
   "metadata": {},
   "outputs": [
    {
     "name": "stdout",
     "output_type": "stream",
     "text": [
      "<class 'str'>\n",
      "2025-03-11 14:30:15\n",
      "<class 'datetime.datetime'>\n"
     ]
    }
   ],
   "source": [
    "# Chuyển chuỗi thành datetime:\n",
    "dt_str = \"2025-03-11 14:30:15\"\n",
    "print(type(dt_str))\n",
    "dt_obj = datetime.strptime(dt_str, \"%Y-%m-%d %H:%M:%S\")\n",
    "print(dt_obj)  # 2025-03-11 14:30:15\n",
    "print(type(dt_obj))"
   ]
  },
  {
   "cell_type": "code",
   "execution_count": 74,
   "id": "94b052f4-5afa-4548-9680-9c32b6b8b7a2",
   "metadata": {},
   "outputs": [],
   "source": [
    "import time"
   ]
  },
  {
   "cell_type": "code",
   "execution_count": 75,
   "id": "25731c61",
   "metadata": {},
   "outputs": [
    {
     "data": {
      "text/plain": [
       "1743845874.7595105"
      ]
     },
     "execution_count": 75,
     "metadata": {},
     "output_type": "execute_result"
    }
   ],
   "source": [
    "# Số giây hiện tại\n",
    "seconds = time.time()\n",
    "seconds"
   ]
  },
  {
   "cell_type": "code",
   "execution_count": 18,
   "id": "19478028",
   "metadata": {},
   "outputs": [
    {
     "name": "stdout",
     "output_type": "stream",
     "text": [
      "Sat Apr  5 10:11:05 2025\n"
     ]
    }
   ],
   "source": [
    "# Thứ - Tháng - Ngày ; Giờ:Phút:Giây ; Năm\n",
    "string_time = time.ctime(seconds)\n",
    "print(string_time)"
   ]
  },
  {
   "cell_type": "code",
   "execution_count": 17,
   "id": "aa26ef59-9e53-4aa9-a2ba-4c08a033e6d8",
   "metadata": {},
   "outputs": [],
   "source": [
    "import datetime # import toàn bộ module datetime"
   ]
  },
  {
   "cell_type": "code",
   "execution_count": 18,
   "id": "5deee0ca",
   "metadata": {},
   "outputs": [
    {
     "name": "stdout",
     "output_type": "stream",
     "text": [
      "Thời gian hiện tại: 2025-05-17 16:13:04.537512\n"
     ]
    }
   ],
   "source": [
    "thoi_gian_hien_tai = datetime.datetime.now()\n",
    "print('Thời gian hiện tại:', thoi_gian_hien_tai)"
   ]
  },
  {
   "cell_type": "code",
   "execution_count": 19,
   "id": "2b157104",
   "metadata": {},
   "outputs": [
    {
     "name": "stdout",
     "output_type": "stream",
     "text": [
      "2022-11-01 00:00:00\n"
     ]
    }
   ],
   "source": [
    "print(datetime.datetime(2022, 11, 1))"
   ]
  },
  {
   "cell_type": "code",
   "execution_count": 24,
   "id": "25451847",
   "metadata": {},
   "outputs": [
    {
     "ename": "ValueError",
     "evalue": "day is out of range for month",
     "output_type": "error",
     "traceback": [
      "\u001b[1;31m---------------------------------------------------------------------------\u001b[0m",
      "\u001b[1;31mValueError\u001b[0m                                Traceback (most recent call last)",
      "Cell \u001b[1;32mIn[24], line 1\u001b[0m\n\u001b[1;32m----> 1\u001b[0m \u001b[38;5;28mprint\u001b[39m(\u001b[43mdatetime\u001b[49m\u001b[38;5;241;43m.\u001b[39;49m\u001b[43mdatetime\u001b[49m\u001b[43m(\u001b[49m\u001b[38;5;241;43m2023\u001b[39;49m\u001b[43m,\u001b[49m\u001b[43m \u001b[49m\u001b[38;5;241;43m2\u001b[39;49m\u001b[43m,\u001b[49m\u001b[43m \u001b[49m\u001b[38;5;241;43m29\u001b[39;49m\u001b[43m)\u001b[49m)\n",
      "\u001b[1;31mValueError\u001b[0m: day is out of range for month"
     ]
    }
   ],
   "source": [
    "print(datetime.datetime(2023, 2, 29)) # Năm 2023 không có ngày 29"
   ]
  },
  {
   "cell_type": "code",
   "execution_count": 82,
   "id": "470e5dd8",
   "metadata": {},
   "outputs": [
    {
     "name": "stdout",
     "output_type": "stream",
     "text": [
      "Số giây: 1743846270.6808543\n",
      "Ngày giờ: 2025-04-05 16:44:30.680854\n"
     ]
    }
   ],
   "source": [
    "giay = time.time()\n",
    "ngay_gio = datetime.datetime.fromtimestamp(giay)\n",
    "print('Số giây:', giay)\n",
    "print('Ngày giờ:', ngay_gio)"
   ]
  },
  {
   "cell_type": "code",
   "execution_count": 83,
   "id": "f135a860",
   "metadata": {},
   "outputs": [
    {
     "name": "stdout",
     "output_type": "stream",
     "text": [
      "Ngày giờ: 2023-03-08 16:02:31\n"
     ]
    }
   ],
   "source": [
    "ngay_gio = datetime.datetime.fromtimestamp(1678266151)\n",
    "print('Ngày giờ:', ngay_gio)"
   ]
  },
  {
   "cell_type": "code",
   "execution_count": 84,
   "id": "6b378201",
   "metadata": {},
   "outputs": [
    {
     "name": "stdout",
     "output_type": "stream",
     "text": [
      "05/04/2025 16:44:32\n"
     ]
    }
   ],
   "source": [
    "ngay_hien_tai = datetime.datetime.now()\n",
    "print(ngay_hien_tai.strftime('%d/%m/%Y %H:%M:%S'))"
   ]
  },
  {
   "cell_type": "code",
   "execution_count": 85,
   "id": "6dc8b44b",
   "metadata": {},
   "outputs": [
    {
     "name": "stdout",
     "output_type": "stream",
     "text": [
      "05/04/2025\n",
      "05/04/2025\n"
     ]
    }
   ],
   "source": [
    "ngay_hien_tai = datetime.datetime.now()\n",
    "print(ngay_hien_tai.strftime('%d/%m/%Y'))\n",
    "ngay_hien_tai = datetime.date.today()\n",
    "print(ngay_hien_tai.strftime('%d/%m/%Y'))"
   ]
  },
  {
   "cell_type": "markdown",
   "id": "962bf6fa-f85d-4c41-8329-8a50834e9189",
   "metadata": {},
   "source": [
    "### Một số thao tác tính toán với datetime  "
   ]
  },
  {
   "cell_type": "code",
   "execution_count": 86,
   "id": "d8917c40",
   "metadata": {},
   "outputs": [
    {
     "name": "stdout",
     "output_type": "stream",
     "text": [
      "Hôm nay: 2025-04-05\n",
      "Hôm qua: 2025-04-04\n",
      "Ngày mai: 2025-04-06\n"
     ]
    }
   ],
   "source": [
    "ngay_hom_nay = datetime.date.today()\n",
    "print('Hôm nay:', ngay_hom_nay)\n",
    "print('Hôm qua:', ngay_hom_nay + datetime.timedelta(days=-1))\n",
    "print('Ngày mai:', ngay_hom_nay + datetime.timedelta(days=1))"
   ]
  },
  {
   "cell_type": "code",
   "execution_count": 25,
   "id": "c6e6b840",
   "metadata": {},
   "outputs": [
    {
     "name": "stdout",
     "output_type": "stream",
     "text": [
      "Các ước số của 100000000 : 1, 2, 4, 5, 8, 10, 16, 20, 25, 32, 40, 50, 64, 80, 100, 125, 128, 160, 200, 250, 256, 320, 400, 500, 625, 640, 800, 1000, 1250, 1280, 1600, 2000, 2500, 3125, 3200, 4000, 5000, 6250, 6400, 8000, 10000, 12500, 15625, 16000, 20000, 25000, 31250, 32000, 40000, 50000, 62500, 78125, 80000, 100000, 125000, 156250, 160000, 200000, 250000, 312500, 390625, 400000, 500000, 625000, 781250, 800000, 1000000, 1250000, 1562500, 2000000, 2500000, 3125000, 4000000, 5000000, 6250000, 10000000, 12500000, 20000000, 25000000, 50000000, 100000000, \n",
      "Các ước số của 100000000 : 1, 2, 4, 5, 8, 10, 16, 20, 25, 32, 40, 50, 64, 80, 100, 125, 128, 160, 200, 250, 256, 320, 400, 500, 625, 640, 800, 1000, 1250, 1280, 1600, 2000, 2500, 3125, 3200, 4000, 5000, 6250, 6400, 8000, 10000, 12500, 15625, 16000, 20000, 25000, 31250, 32000, 40000, 50000, 62500, 78125, 80000, 100000, 125000, 156250, 160000, 200000, 250000, 312500, 390625, 400000, 500000, 625000, 781250, 800000, 1000000, 1250000, 1562500, 2000000, 2500000, 3125000, 4000000, 5000000, 6250000, 10000000, 12500000, 20000000, 25000000, 50000000, 100000000\n",
      "\n",
      "Tổng số giây chương trình chạy: 8.54765772819519\n"
     ]
    }
   ],
   "source": [
    "t1 = time.time()\n",
    "\n",
    "# tìm các ước số của 1000000\n",
    "uoc = ''\n",
    "n = 100000000\n",
    "for i in range(1, n+1):\n",
    "    if n % i == 0:\n",
    "        uoc = uoc + str(i) + ', '\n",
    "print(f'Các ước số của {n} :', uoc)               # Không cắt bỏ dấu , cuối\n",
    "print(f'Các ước số của {n} :', uoc.strip(', '))   # Cắt bỏ dấu , cuối\n",
    "t2 = time.time()\n",
    "print('\\nTổng số giây chương trình chạy:', t2 - t1)"
   ]
  },
  {
   "cell_type": "code",
   "execution_count": 89,
   "id": "8c2023bc",
   "metadata": {},
   "outputs": [
    {
     "name": "stdout",
     "output_type": "stream",
     "text": [
      "tong so giay = 435633.233423\n"
     ]
    }
   ],
   "source": [
    "t = datetime.timedelta(days = 5, hours = 1, seconds = 33, microseconds = 233423)\n",
    "print(\"tong so giay =\", t.total_seconds())"
   ]
  },
  {
   "cell_type": "code",
   "execution_count": 90,
   "id": "149ba2aa",
   "metadata": {},
   "outputs": [
    {
     "name": "stdout",
     "output_type": "stream",
     "text": [
      "Khoảng cách giữa t1 và t2: 19 days, 16:55:48\n"
     ]
    }
   ],
   "source": [
    "t1 = datetime.timedelta(weeks=3, days=2, hours=1, seconds=33)\n",
    "t2 = datetime.timedelta(days=3, hours=8, minutes=4, seconds=45)\n",
    "t3 = t1 - t2\n",
    "print(\"Khoảng cách giữa t1 và t2:\", t3)"
   ]
  },
  {
   "cell_type": "code",
   "execution_count": 26,
   "id": "5c980c1f",
   "metadata": {},
   "outputs": [
    {
     "name": "stdout",
     "output_type": "stream",
     "text": [
      "Ngày hôm nay: 2025-05-17\n",
      "Ngày sinh nhật kế tiếp: 2025-05-17\n",
      "Còn 0 nữa là đến ngày sinh nhật\n"
     ]
    }
   ],
   "source": [
    "ngay_hom_nay = datetime.date.today()\n",
    "print('Ngày hôm nay:', ngay_hom_nay)\n",
    "\n",
    "ngay_sinh_nhat_ke_tiep = datetime.date(2025, 5, 17)\n",
    "print('Ngày sinh nhật kế tiếp:', ngay_sinh_nhat_ke_tiep)\n",
    "\n",
    "so_ngay = ngay_sinh_nhat_ke_tiep - ngay_hom_nay\n",
    "print('Còn', so_ngay.days, 'nữa là đến ngày sinh nhật')"
   ]
  },
  {
   "cell_type": "code",
   "execution_count": null,
   "id": "af5340fc-c79e-4e98-b999-56439e003629",
   "metadata": {},
   "outputs": [],
   "source": []
  }
 ],
 "metadata": {
  "kernelspec": {
   "display_name": "Python 3 (ipykernel)",
   "language": "python",
   "name": "python3"
  },
  "language_info": {
   "codemirror_mode": {
    "name": "ipython",
    "version": 3
   },
   "file_extension": ".py",
   "mimetype": "text/x-python",
   "name": "python",
   "nbconvert_exporter": "python",
   "pygments_lexer": "ipython3",
   "version": "3.10.4"
  }
 },
 "nbformat": 4,
 "nbformat_minor": 5
}
