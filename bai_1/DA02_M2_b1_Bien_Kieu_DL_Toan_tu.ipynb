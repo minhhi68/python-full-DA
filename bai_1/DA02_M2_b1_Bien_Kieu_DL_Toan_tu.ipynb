{
  "cells": [
    {
      "cell_type": "markdown",
      "id": "8a624446",
      "metadata": {
        "id": "8a624446"
      },
      "source": [
        "## Bài tập trên lớp"
      ]
    },
    {
      "cell_type": "markdown",
      "id": "SXFutTVqE-9G",
      "metadata": {
        "id": "SXFutTVqE-9G"
      },
      "source": [
        "### 1.1 Tính toán doanh thu và lợi nhuận"
      ]
    },
    {
      "cell_type": "code",
      "execution_count": 1,
      "id": "0d80db30",
      "metadata": {
        "colab": {
          "base_uri": "https://localhost:8080/"
        },
        "id": "0d80db30",
        "outputId": "8f208ee0-a66c-43b3-dd9f-4f6ee561147e"
      },
      "outputs": [
        {
          "ename": "SyntaxError",
          "evalue": "invalid syntax (889967317.py, line 4)",
          "output_type": "error",
          "traceback": [
            "\u001b[1;36m  Cell \u001b[1;32mIn[1], line 4\u001b[1;36m\u001b[0m\n\u001b[1;33m    so_luong_san_pham =\u001b[0m\n\u001b[1;37m                        ^\u001b[0m\n\u001b[1;31mSyntaxError\u001b[0m\u001b[1;31m:\u001b[0m invalid syntax\n"
          ]
        }
      ],
      "source": [
        "# Nhập giá bán trên mỗi sản phẩm\n",
        "gia_ban_tren_moi_san_pham = int(input(\"Nhập giá bán trên mỗi sản phẩm: \"))\n",
        "# Nhập số lượng sản phẩm\n",
        "so_luong_san_pham = \n",
        "# Nhập chi phí sản xuất\n",
        "chi_phi_san_xuat = \n",
        "\n",
        "# Tính toán doanh thu\n",
        "doanh_thu = \n",
        "# Tính toán lợi nhuận\n",
        "loi_nhuan = \n",
        "\n",
        "# Xuất kết quả"
      ]
    },
    {
      "cell_type": "markdown",
      "id": "N2RzZzRBFBMW",
      "metadata": {
        "id": "N2RzZzRBFBMW"
      },
      "source": [
        "### 1.2. Tính lãi suất cộng dồn (Compound Interest)"
      ]
    },
    {
      "cell_type": "code",
      "execution_count": null,
      "id": "00b02bb9",
      "metadata": {
        "colab": {
          "base_uri": "https://localhost:8080/"
        },
        "id": "00b02bb9",
        "outputId": "fdec87db-7784-462e-e206-5ab0fac66242"
      },
      "outputs": [],
      "source": [
        "# Nhập số tiền đầu tư ban đầu (P) (tính theo VND)\n",
        "P = \n",
        "# Nhập lãi suất hằng năm (r)\n",
        "r =   \n",
        "# Nhập số năm đầu tư (n)    \n",
        "n =      \n",
        "\n",
        "# Tính toán số tiền nhận được trong tương lai\n",
        "A = \n",
        "\n",
        "\n",
        "# Xuất kết quả\n"
      ]
    },
    {
      "cell_type": "markdown",
      "id": "WW2iJtEiFDsO",
      "metadata": {
        "id": "WW2iJtEiFDsO"
      },
      "source": [
        "### 1.3 Tính tổng giá trị giao dịch (USD) và chuyển qua loại tiền tệ khác (VND)"
      ]
    },
    {
      "cell_type": "code",
      "execution_count": null,
      "id": "33c42690",
      "metadata": {
        "colab": {
          "base_uri": "https://localhost:8080/"
        },
        "id": "33c42690",
        "outputId": "786be778-d040-4141-b444-dc319b61fc64"
      },
      "outputs": [],
      "source": [
        "# Nhập giá trị giao dịch 1\n",
        "giao_dich_1 = \n",
        "# Nhập giá trị giao dịch 2\n",
        "giao_dich_2 = \n",
        "# Nhập giá trị giao dịch 3\n",
        "giao_dich_3 = \n",
        "# Nhập giá trị giao dịch 4\n",
        "giao_dich_4 = \n",
        "\n",
        "# Nhập tỷ giá ngoại tệ\n",
        "ty_gia_ngoai_te = \n",
        "\n",
        "# Tính toán tổng các giá trị giao dịch\n",
        "total_USD = giao_dich_1 + giao_dich_2 + giao_dich_3 + giao_dich_4\n",
        "\n",
        "# Quy đổi tổng giá trị giao dịch từ USD sang VND\n",
        "total_VND = total_USD * ty_gia_ngoai_te\n",
        "\n",
        "\n",
        "# Xuất kết quả"
      ]
    },
    {
      "cell_type": "markdown",
      "id": "07d1a0f2",
      "metadata": {
        "id": "07d1a0f2"
      },
      "source": [
        "## Bài tập làm thêm"
      ]
    },
    {
      "cell_type": "markdown",
      "id": "bwzVAZxsFcgu",
      "metadata": {
        "id": "bwzVAZxsFcgu"
      },
      "source": [
        "### 1.4 Tính tiền lãi gửi tiết kiệm"
      ]
    },
    {
      "cell_type": "code",
      "execution_count": null,
      "id": "b9ec5211",
      "metadata": {
        "colab": {
          "base_uri": "https://localhost:8080/"
        },
        "id": "b9ec5211",
        "outputId": "3c2c4212-678f-46d6-9b2b-77b9a5dc2caf"
      },
      "outputs": [],
      "source": [
        "# Nhập số tiền gửi\n",
        "tien_gui = \n",
        "# Nhập số tháng gửi\n",
        "so_thang_gui = \n",
        "# Nhập lãi suất 1 năm (%)\n",
        "lai_suat = eval(input('Nhập lãi suất 1 năm (%): '))\n",
        "\n",
        "# Tính toán tiền lãi\n",
        "tien_lai = \n",
        "\n",
        "\n",
        "# Xuất kết quả"
      ]
    },
    {
      "cell_type": "markdown",
      "id": "o1Srmpr5FeaW",
      "metadata": {
        "id": "o1Srmpr5FeaW"
      },
      "source": [
        "### 1.5 Tính toán mệnh giá tiền"
      ]
    },
    {
      "cell_type": "code",
      "execution_count": null,
      "id": "d46098bb",
      "metadata": {
        "colab": {
          "base_uri": "https://localhost:8080/"
        },
        "id": "d46098bb",
        "outputId": "9e111d8e-f6e1-4ec2-eea1-7729fc84f418"
      },
      "outputs": [],
      "source": [
        "# Nhập số tiền muốn đổi\n",
        "so_tien = \n",
        "\n",
        "so_to_500k = so_tien // 500000\n",
        "print('\\nSố tờ mệnh giá {:,}: {}'.format(500000, so_to_500k))\n",
        "so_tien_con_lai = so_tien % 500000\n",
        "\n",
        "so_to_200k = \n",
        "print('Số tờ mệnh giá {}: {}'.format(200000, so_to_200k))\n",
        "so_tien_con_lai = \n",
        "\n",
        "so_to_100k = \n",
        "print('Số tờ mệnh giá {}: {}'.format(100000, so_to_100k))\n",
        "so_tien_con_lai = so_tien_con_lai % 100000\n",
        "\n",
        "so_to_50k = \n",
        "print('Số tờ mệnh giá {}: {}'.format(50000, so_to_50k))\n",
        "\n",
        "so_tien_con_lai = so_tien_con_lai % 50000\n",
        "print('Số tiền còn dư: {}'.format(so_tien_con_lai))"
      ]
    }
  ],
  "metadata": {
    "colab": {
      "provenance": []
    },
    "kernelspec": {
      "display_name": "base",
      "language": "python",
      "name": "python3"
    },
    "language_info": {
      "codemirror_mode": {
        "name": "ipython",
        "version": 3
      },
      "file_extension": ".py",
      "mimetype": "text/x-python",
      "name": "python",
      "nbconvert_exporter": "python",
      "pygments_lexer": "ipython3",
      "version": "3.12.7"
    }
  },
  "nbformat": 4,
  "nbformat_minor": 5
}
