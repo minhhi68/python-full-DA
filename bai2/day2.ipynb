{
 "cells": [
  {
   "cell_type": "code",
   "execution_count": 12,
   "metadata": {},
   "outputs": [
    {
     "name": "stdout",
     "output_type": "stream",
     "text": [
      "You passed\n",
      "Congrats\n"
     ]
    }
   ],
   "source": [
    "#VD1: Điều kiện if\n",
    "dtb = float(input(\"Your average GPA:  \"))\n",
    "if dtb >= 5: \n",
    "    print(\"You passed\")\n",
    "    print(\"Congrats\");"
   ]
  },
  {
   "cell_type": "code",
   "execution_count": null,
   "metadata": {},
   "outputs": [],
   "source": [
    "x = 250000.24\n",
    "print('giam gia: ', '{:,.4f}'.format(x))"
   ]
  },
  {
   "cell_type": "code",
   "execution_count": null,
   "metadata": {},
   "outputs": [
    {
     "name": "stdout",
     "output_type": "stream",
     "text": [
      "Giá gốc: 28,000,000 tiền trước bạ 100,000\n",
      "Giảm giá: 2,800,000\n"
     ]
    },
    {
     "name": "stdout",
     "output_type": "stream",
     "text": [
      "TIỀN PHẢI TRẢ: 25,200,000\n",
      "Giá gốc: 28,000,000 tiền trước bạ 100,000\n",
      "Bạn có thể mua laptop này!\n"
     ]
    }
   ],
   "source": [
    "# VD 2 : Điều kiện mua laptop\n",
    "\n",
    "gia_goc = 28000000 # Giá gốc bán laptop\n",
    "ban_co = 30000000  # Số tiền bạn có\n",
    "giam_gia = 0.1     # Tỷ lệ giảm giá 10%\n",
    "tien_giam = gia_goc * giam_gia # 2800000\n",
    "tien_phai_tra = gia_goc - tien_giam\n",
    "tien_truoc_ba =100000\n",
    "print('Giá gốc: {:,} tiền trước bạ {:,}'.format(gia_goc,tien_truoc_ba))\n",
    "print('Giảm giá:', '{:,.0f}'.format(tien_giam))\n",
    "print('TIỀN PHẢI TRẢ:', '{:,}'.format(int(tien_phai_tra)))\n",
    "\n",
    "print('Giá gốc:','{:,} tiền trước bạ {:,}'.format(gia_goc,tien_truoc_ba))\n",
    "\n",
    "if tien_phai_tra <= ban_co:\n",
    "    print('Bạn có thể mua laptop này!')"
   ]
  },
  {
   "cell_type": "code",
   "execution_count": 13,
   "metadata": {},
   "outputs": [
    {
     "name": "stdout",
     "output_type": "stream",
     "text": [
      "You failed\n",
      "Try again later\n"
     ]
    }
   ],
   "source": [
    "#vd1: dieu kien thi dau hay rot\n",
    "dtb = float(input(\"Nhap diem trung binh: \"))\n",
    "if dtb >= 5 :\n",
    "    print(\"You passed\")\n",
    "    print(\"Congrats\")\n",
    "    \n",
    "else:\n",
    "    print(\"You failed\")\n",
    "    print(\"Try again later\")"
   ]
  },
  {
   "cell_type": "code",
   "execution_count": 7,
   "metadata": {},
   "outputs": [
    {
     "name": "stdout",
     "output_type": "stream",
     "text": [
      "Ban can them 150,000,000 de co the mua xe\n"
     ]
    }
   ],
   "source": [
    "#vd2: Dieu kien mua xe o to\n",
    "tien_tiet_kiem = 400000000\n",
    "gia_xe_oto = 550000000\n",
    "\n",
    "if tien_tiet_kiem >= gia_xe_oto:\n",
    "    print(\"You can buy this car\")\n",
    "\n",
    "else: \n",
    "    so_tien_con_lai = gia_xe_oto - tien_tiet_kiem\n",
    "    print('Ban can them {:,} de co the mua xe' .format(so_tien_con_lai))"
   ]
  },
  {
   "cell_type": "code",
   "execution_count": 11,
   "metadata": {},
   "outputs": [
    {
     "name": "stdout",
     "output_type": "stream",
     "text": [
      "\n",
      "Ban duoc giam gia 15%\n",
      "SO TIEN PHAI TRAL  12,750,000\n"
     ]
    }
   ],
   "source": [
    "so_tien = int(input('Nhap so tien mua hang: '))\n",
    "\n",
    "print('')\n",
    "if so_tien < 500000:\n",
    "    print('Ban khong duoc giam gia')\n",
    "elif so_tien < 1000000:\n",
    "    print('Ban duoc giam gia 5%')\n",
    "    so_tien = so_tien * 0.95\n",
    "elif so_tien < 2000000:\n",
    "    print('Ban duoc giam gia 10%')\n",
    "    so_tien = so_tien * 0.9\n",
    "else:\n",
    "    print('Ban duoc giam gia 15%')\n",
    "    so_tien = so_tien * 0.85\n",
    "    print('SO TIEN PHAI TRA ', '{:,}'. format(int(so_tien)))"
   ]
  },
  {
   "cell_type": "code",
   "execution_count": 16,
   "metadata": {},
   "outputs": [
    {
     "name": "stdout",
     "output_type": "stream",
     "text": [
      "phan con lai\n"
     ]
    }
   ],
   "source": [
    "x = 200 \n",
    "if x < 40:\n",
    "    print('x nho hon 100')\n",
    "elif 50 < x < 70:\n",
    "    print('50 <x <70')\n",
    "elif 60 < x < 102 :\n",
    "    print('60 < x < 100')\n",
    "else: \n",
    "    print('phan con lai')"
   ]
  },
  {
   "cell_type": "code",
   "execution_count": 23,
   "metadata": {},
   "outputs": [
    {
     "name": "stdout",
     "output_type": "stream",
     "text": [
      "Bắt đầu hành trình từ TPHCM\n",
      "\n",
      "Đi tiếp...\n",
      "\n",
      "Đi tiếp...\n",
      "\n",
      "Đi tiếp...\n",
      "\n",
      "Đi tiếp...\n",
      "\n",
      "Đi tiếp...\n",
      "\n",
      "Đi tiếp...\n",
      "\n",
      "Đi tiếp...\n",
      "\n",
      "Đi tiếp...\n"
     ]
    }
   ],
   "source": [
    "vi_tri = 'TPHCM'\n",
    "print('Bắt đầu hành trình từ', vi_tri)\n",
    "diem_den = 'Đà Nẵng'\n",
    "while vi_tri != diem_den:\n",
    "    print('\\nĐi tiếp...')\n",
    "    vi_tri = input('Nhập vị trí: ')\n",
    "print('\\n==> Đã đến', diem_den)"
   ]
  },
  {
   "cell_type": "code",
   "execution_count": 2,
   "metadata": {},
   "outputs": [],
   "source": [
    "#Countdown\n",
    "\n",
    "i = 10\n",
    "while i < 0:\n",
    "    print(i)\n",
    "    i = i - 1\n",
    "    # i -= 1\n",
    "    print('Start!')"
   ]
  }
 ],
 "metadata": {
  "kernelspec": {
   "display_name": "base",
   "language": "python",
   "name": "python3"
  },
  "language_info": {
   "codemirror_mode": {
    "name": "ipython",
    "version": 3
   },
   "file_extension": ".py",
   "mimetype": "text/x-python",
   "name": "python",
   "nbconvert_exporter": "python",
   "pygments_lexer": "ipython3",
   "version": "3.12.7"
  }
 },
 "nbformat": 4,
 "nbformat_minor": 2
}
