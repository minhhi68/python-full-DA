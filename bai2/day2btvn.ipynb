{
 "cells": [
  {
   "cell_type": "code",
   "execution_count": 12,
   "id": "7f7737c2",
   "metadata": {},
   "outputs": [
    {
     "name": "stdout",
     "output_type": "stream",
     "text": [
      "Với mức chi tiêu là 67000000 VND, người dùng thuộc nhóm Bạc.\n"
     ]
    }
   ],
   "source": [
    "#Nhập mức chi tiêu của nguời dùng\n",
    "muc_chi_tieu = int(input(\"Nhập mức chi tiêu (VND): \"))\n",
    "\n",
    "#Phân loại mức chi tiêu\n",
    "if muc_chi_tieu < 10000000:\n",
    "    nhom = \"Tiêu chuẩn\"\n",
    "elif muc_chi_tieu < 500000000:\n",
    "    nhom = \"Bạc\"\n",
    "elif muc_chi_tieu < 100000000:\n",
    "    nhom = \"Vàng\"\n",
    "else:\n",
    "    nhom = \"Platinum\"\n",
    "    \n",
    "#In ra kết quả\n",
    "print(f\"Với mức chi tiêu là {muc_chi_tieu} VND, người dùng thuộc nhóm {nhom}.\")"
   ]
  },
  {
   "cell_type": "code",
   "execution_count": 22,
   "id": "bf360f94",
   "metadata": {},
   "outputs": [
    {
     "name": "stdout",
     "output_type": "stream",
     "text": [
      "Tổng giá trị giao dịch là: 8601000 VND\n"
     ]
    }
   ],
   "source": [
    "# Tổng hợp các giao dịch\n",
    "# Khởi tạo biến tổng\n",
    "tong_giao_dich = 0\n",
    "\n",
    "# Vòng lặp để nhập các giao dịch\n",
    "while True:\n",
    "    gia_tri = int(input(\"Nhập giá trị giao dịch (hoặc nhập 0 để kết thúc): \"))\n",
    "    if gia_tri == 0:\n",
    "        break\n",
    "    tong_giao_dich += gia_tri\n",
    "\n",
    "# In ra tổng giao dịch\n",
    "print(f\"Tổng giá trị giao dịch là: {tong_giao_dich} VND\")\n"
   ]
  },
  {
   "cell_type": "code",
   "execution_count": 1,
   "id": "9a9aca20",
   "metadata": {},
   "outputs": [
    {
     "name": "stdout",
     "output_type": "stream",
     "text": [
      "\n",
      "Tên loại phòng: Family Room - Số đêm: 5 - Thành tiền: 7419999.999999999 VND\n"
     ]
    }
   ],
   "source": [
    "#2.3 Tính tiền thuê phòng resort\n",
    "\n",
    "#Danh sách các loai phòng\n",
    "loai_phong = {\n",
    "1: (\"Standard\", 1260000),\n",
    "2: (\"Superior Garden View\", 1550000),\n",
    "3: (\"Superior Ocean View\", 1830000),\n",
    "4: (\"Garden View Bungalow\", 1830000),\n",
    "5: (\"Pool View Bungalow\", 2120000),\n",
    "6: (\"Family Room\", 2120000),\n",
    "7: (\"Beach Front Bungalow\", 2540000),\n",
    "8: (\"VIP Sea View\", 4800000)\n",
    "\n",
    "}\n",
    "\n",
    "#Nhập dữ liệu từ người dùng\n",
    "ma_loai = int(input(\"Nhập mã loại phòng (1-8): \"))\n",
    "so_dem = int(input(\"Nhập số đêm lưu trú: \"))\n",
    "\n",
    "#Lấy thông tin loại phòng\n",
    "ten_phong, gia_1_dem = loai_phong.get(ma_loai)\n",
    "\n",
    "# Tính giá theo số đêm và mức giảm\n",
    "if 2 <= so_dem <= 3:\n",
    "    gia_thue = gia_1_dem * so_dem * 0.75  # Giảm 25%\n",
    "elif so_dem >= 4:\n",
    "    gia_thue = gia_1_dem * so_dem * 0.70 # Giảm 35%\n",
    "else:\n",
    "    gia_thue = gia_1_dem * so_dem # Không giảm\n",
    "    \n",
    "    \n",
    "# Xuất kết quả\n",
    "print(f\"\\nTên loại phòng: {ten_phong} - Số đêm: {so_dem} - Thành tiền: {gia_thue} VND\")"
   ]
  },
  {
   "cell_type": "code",
   "execution_count": null,
   "id": "bc68c4fd",
   "metadata": {},
   "outputs": [],
   "source": [
    "#2.4 Tính thuế thu nhập cá nhân\n",
    "\n",
    "# Hàm tính thuế theo biểu thuế luỹ tiến từng phần\n",
    "\n",
    "def tinh_thue_thu_nhap(tntt): #tntt = thu nhập tính thuế\n",
    "    bac_thue = [\n",
    "        (60_000_000, 0.05),\n",
    "        (120_000_000, 0.10),\n",
    "        (216_000_000, 0.15),\n",
    "        (384_000_000, 0.20),\n",
    "        (624_000_000, 0.25),\n",
    "        (960_000_000, 0.30),\n",
    "        float('inf'), 0.35\n",
    "    ]\n",
    "    \n",
    "    thue = 0 \n",
    "    thu_nhap_con_lai = tntt\n",
    "    mien_thue_truoc = 0\n",
    "    \n",
    "    for gi"
   ]
  }
 ],
 "metadata": {
  "kernelspec": {
   "display_name": "base",
   "language": "python",
   "name": "python3"
  },
  "language_info": {
   "codemirror_mode": {
    "name": "ipython",
    "version": 3
   },
   "file_extension": ".py",
   "mimetype": "text/x-python",
   "name": "python",
   "nbconvert_exporter": "python",
   "pygments_lexer": "ipython3",
   "version": "3.12.7"
  }
 },
 "nbformat": 4,
 "nbformat_minor": 5
}
