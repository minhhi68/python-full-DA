{
 "cells": [
  {
   "cell_type": "code",
   "execution_count": 2,
   "id": "69764997",
   "metadata": {},
   "outputs": [
    {
     "name": "stdout",
     "output_type": "stream",
     "text": [
      "Tổng doanh thu là: 1000 VND\n",
      "Tổng lợi nhuận là: 9500 VND\n"
     ]
    }
   ],
   "source": [
    "#1.1 Tính toán doanh thu và lợi nhuận\n",
    "#Nhập dữ liệu từ người dùng\n",
    "gia_ban = int(input(\"Nhập giá bán trên mỗi sản phẩm: \"))\n",
    "so_luong = int(input(\"Nhập số lượng sản phẩm: \"))\n",
    "chi_phi = int(input(\"Nhập chi phí sản xuất: \"))\n",
    "\n",
    "#Xuất doanh thu\n",
    "doanh_thu = gia_ban * so_luong\n",
    "\n",
    "#Tính toán lợi nhuận\n",
    "loi_nhuan = (doanh_thu - chi_phi) * so_luong\n",
    "\n",
    "print(\"Tổng doanh thu là:\", doanh_thu, 'VND')\n",
    "\n",
    "print(\"Tổng lợi nhuận là:\", loi_nhuan, 'VND')"
   ]
  },
  {
   "cell_type": "code",
   "execution_count": null,
   "id": "0e8e4c1f",
   "metadata": {},
   "outputs": [
    {
     "name": "stdout",
     "output_type": "stream",
     "text": [
      "Số tiền nhận được trong tương lai (A) sau 20 năm: 3656158440062976000000000.00 VND\n"
     ]
    }
   ],
   "source": [
    "#1.2 Tính lãi suất cộng dồn\n",
    "P = int(input(\"Nhập số tiền đầu tư ban đầu (P): \"))\n",
    "r = float(input(\"Nhập lãi suất hàng năm (r): \"))\n",
    "n = int(input(\"Nhập số năm đầu tư (n): \"))\n",
    "\n",
    "#Tính toán số tiền tương lai\n",
    "A = P * (1 + r) ** n\n",
    "\n",
    "#In kết quả (làm tròn đến 2 chữ số thập phân)\n",
    "print(f\"Số tiền nhận được trong tương lai (A) sau {n} năm: {A:.2f} VND\")"
   ]
  },
  {
   "cell_type": "code",
   "execution_count": 6,
   "id": "f1ba243f",
   "metadata": {},
   "outputs": [
    {
     "name": "stdout",
     "output_type": "stream",
     "text": [
      "\n",
      "Tổng giá trị giao dịch là: 10400.00 USD\n",
      "Tổng giá trị giao dịch bằng ngoại tệ là: 104000 VND\n"
     ]
    }
   ],
   "source": [
    "## 1.3 Tính tổng giá trị giao dịch và chuyển đổi qua loại tiền tệ khác\n",
    "g1 = float(input(\"Nhập giá trị giao dịch 1:\"))\n",
    "g2 = float(input(\"Nhập giá trị giao dịch 2:\"))\n",
    "g3 = float(input(\"Nhập giá trị giao dịch 3:\"))\n",
    "g4 = float(input(\"Nhập giá trị giao dịch 4:\"))\n",
    "\n",
    "#Nhập tỷ giá ngoại tệ\n",
    "ty_gia = float(input(\"Nhập tỷ giá ngoại tệ:\"))\n",
    "\n",
    "#Tính tổng giá trị giao dịch bằng USD\n",
    "tong_gia_tri = g1 + g2 + g3 + g4\n",
    "\n",
    "#Tông giá trị giao dịch bằng ngoại tệ\n",
    "tong_gia_tri_ngoai_te = tong_gia_tri * ty_gia\n",
    "\n",
    "#In kết quả\n",
    "print(f\"\\nTổng giá trị giao dịch là: {tong_gia_tri:.2f} USD\")\n",
    "print(f\"Tổng giá trị giao dịch bằng ngoại tệ là: {tong_gia_tri_ngoai_te:.0f} VND\")"
   ]
  },
  {
   "cell_type": "code",
   "execution_count": 7,
   "id": "57c42fb0",
   "metadata": {},
   "outputs": [
    {
     "name": "stdout",
     "output_type": "stream",
     "text": [
      "\n",
      "Số tiền lãi nhận được là: 105000000.0 VND\n",
      "Tổng số tiền nhận được là:  1000000000.0 + 105000000.0 =  1105000000.000000 VND\n"
     ]
    }
   ],
   "source": [
    "#1.4 Tính toán tiền lãi gửi tiết kiệm\n",
    "#Nhập số tiền gửi tiết kiệm\n",
    "so_tien_gui = float(input(\"Nhập số tiền gửi tiết kiệm: \"))\n",
    "so_thang_gui = int(input(\"Nhập số tháng gửi tiết kiệm: \"))\n",
    "lai_suat = float(input(\"Nhập lãi suất hàng tháng (%): \"))\n",
    "\n",
    "#Tính toán tiền lãi\n",
    "tien_lai = (so_tien_gui * so_thang_gui) * (lai_suat / 12 /100)\n",
    "\n",
    "#Tính tông số tiền nhận được\n",
    "tong_tien_nhan = so_tien_gui + tien_lai\n",
    "\n",
    "#In kết quả\n",
    "print(f\"\\nSố tiền lãi nhận được là: {tien_lai:.1f} VND\")\n",
    "print(f\"Tổng số tiền nhận được là: {so_tien_gui: .1f} + {tien_lai:.1f} = {tong_tien_nhan: 1f} VND\")"
   ]
  },
  {
   "cell_type": "code",
   "execution_count": 9,
   "id": "80ce9880",
   "metadata": {},
   "outputs": [
    {
     "name": "stdout",
     "output_type": "stream",
     "text": [
      "Số lượng tờ tiền mệnh giá 500000 là: 2\n",
      "Số lượng tờ tiền mệnh giá 200000 là: 0\n",
      "Số lượng tờ tiền mệnh giá 100000 là: 0\n",
      "Số lượng tờ tiền mệnh giá 50000 là: 1\n"
     ]
    }
   ],
   "source": [
    "#1.5 Tính toán mệnh giá tiền\n",
    "#Nhập số tiền cần đổi\n",
    "so_tien = int(input(\"Nhập số tiền cần đổi: \"))\n",
    "\n",
    "#Danh sach mệnh giá tiền theo thứ tự giảm dần\n",
    "menh_gia = [500000, 200000, 100000, 50000]\n",
    "\n",
    "#Duyệt từng mệnh giá tiền và tính số lượng tờ tiền\n",
    "for menh_gia_toi in menh_gia:\n",
    "    so_luong_toi = so_tien // menh_gia_toi\n",
    "    so_tien = so_tien % menh_gia_toi\n",
    "    print(f\"Số lượng tờ tiền mệnh giá {menh_gia_toi} là: {so_luong_toi}\")"
   ]
  }
 ],
 "metadata": {
  "kernelspec": {
   "display_name": "base",
   "language": "python",
   "name": "python3"
  },
  "language_info": {
   "codemirror_mode": {
    "name": "ipython",
    "version": 3
   },
   "file_extension": ".py",
   "mimetype": "text/x-python",
   "name": "python",
   "nbconvert_exporter": "python",
   "pygments_lexer": "ipython3",
   "version": "3.12.7"
  }
 },
 "nbformat": 4,
 "nbformat_minor": 5
}
