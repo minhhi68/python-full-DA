{
 "cells": [
  {
   "attachments": {},
   "cell_type": "markdown",
   "id": "add99415-0fd2-44f4-b79a-4c1a746cc2dd",
   "metadata": {},
   "source": [
    "# 2.Cấu trúc lặp\n",
    "Cấu trúc lặp trong Python giúp bạn thực hiện một đoạn mã nhiều lần mà không cần phải viết lặp lại từng dòng. Python có hai loại vòng lặp chính:\n",
    "\n",
    "Vòng lặp while: Lặp cho đến khi điều kiện trở thành False.   \n",
    "Vòng lặp for: Lặp qua một dãy giá trị xác định.  \n",
    "Ngoài ra, Python còn cung cấp các lệnh điều khiển vòng lặp như break, continue, và pass để điều chỉnh cách vòng lặp hoạt động.\n"
   ]
  },
  {
   "cell_type": "markdown",
   "id": "89164d24",
   "metadata": {},
   "source": [
    "## While\n",
    "Vòng lặp while tiếp tục chạy khi điều kiện vẫn còn đúng (True).  \n",
    "while condition:\n",
    "    <blockquote>\n",
    "    # Khối lệnh được thực thi\n",
    "    </blockquote>\n",
    "\n",
    "- Có thể Khối lệnh được thực thi sẽ không được thực hiện lần nào nếu condition là False ngay từ đầu\n",
    "- Ta có thể kết thúc vòng lặp while bằng cách đưa condition về False hoặc dùng từ khoá break để thoát."
   ]
  },
  {
   "cell_type": "code",
   "execution_count": 1,
   "id": "ae54244e",
   "metadata": {},
   "outputs": [
    {
     "name": "stdout",
     "output_type": "stream",
     "text": [
      "Bắt đầu hành trình từ TPHCM\n",
      "\n",
      "Đi tiếp...\n"
     ]
    },
    {
     "name": "stdin",
     "output_type": "stream",
     "text": [
      "Nhập vị trí:  Đồng nai\n"
     ]
    },
    {
     "name": "stdout",
     "output_type": "stream",
     "text": [
      "\n",
      "Đi tiếp...\n"
     ]
    },
    {
     "name": "stdin",
     "output_type": "stream",
     "text": [
      "Nhập vị trí:  Phan thiết\n"
     ]
    },
    {
     "name": "stdout",
     "output_type": "stream",
     "text": [
      "\n",
      "Đi tiếp...\n"
     ]
    },
    {
     "name": "stdin",
     "output_type": "stream",
     "text": [
      "Nhập vị trí:  Đà nẵng\n"
     ]
    },
    {
     "name": "stdout",
     "output_type": "stream",
     "text": [
      "\n",
      "Đi tiếp...\n"
     ]
    },
    {
     "name": "stdin",
     "output_type": "stream",
     "text": [
      "Nhập vị trí:  Đà Nẵng\n"
     ]
    },
    {
     "name": "stdout",
     "output_type": "stream",
     "text": [
      "\n",
      "==> Đã đến Đà Nẵng\n"
     ]
    }
   ],
   "source": [
    "vi_tri = 'TPHCM'\n",
    "print('Bắt đầu hành trình từ', vi_tri)\n",
    "diem_den = 'Đà Nẵng'\n",
    "while vi_tri != diem_den:\n",
    "    print('\\nĐi tiếp...')\n",
    "    vi_tri = input('Nhập vị trí: ')\n",
    "print('\\n==> Đã đến', diem_den)"
   ]
  },
  {
   "cell_type": "code",
   "execution_count": 3,
   "id": "e69b66ce",
   "metadata": {},
   "outputs": [
    {
     "name": "stdout",
     "output_type": "stream",
     "text": [
      "10\n",
      "9\n",
      "8\n",
      "7\n",
      "6\n",
      "5\n",
      "4\n",
      "3\n",
      "2\n",
      "1\n",
      "Start!\n"
     ]
    }
   ],
   "source": [
    "# Countdown\n",
    "i = 10\n",
    "while i > 0:\n",
    "    print(i)\n",
    "    i = i - 1 \n",
    "    # i = i + 1 \n",
    "    # i -= 1\n",
    "print('Start!')\n",
    "\n"
   ]
  },
  {
   "cell_type": "code",
   "execution_count": 6,
   "id": "19e8e596-53ce-44b0-8dfa-b4ec7151ff51",
   "metadata": {},
   "outputs": [
    {
     "name": "stdout",
     "output_type": "stream",
     "text": [
      "1\n",
      "2\n",
      "3\n",
      "4\n",
      "i sau vòng lặp :  5\n"
     ]
    }
   ],
   "source": [
    "# Sử dụng break\n",
    "i = 1\n",
    "while i >0 :\n",
    "    print(i)\n",
    "    i +=1 # i = i + 1\n",
    "    if i == 5 :\n",
    "        break\n",
    "print(\"i sau vòng lặp : \", i)\n"
   ]
  },
  {
   "cell_type": "markdown",
   "id": "99de0c7f",
   "metadata": {},
   "source": [
    "## For\n",
    "    Vòng lặp for trong Python là một cấu trúc lặp được sử dụng để lặp qua một chuỗi (string), danh sách (list), bộ (tuple), tập hợp (set), từ điển (dictionary), hoặc bất kỳ đối tượng nào có thể lặp lại (iterable).  \n",
    "Cú pháp :  \n",
    "for variable in iterable:\n",
    "    <blockquote>\n",
    "    # Khối lệnh sẽ được thực thi trong mỗi lần lặp\n",
    "    </blockquote>  \n",
    "\n",
    "    - variable: Biến sẽ nhận giá trị của từng phần tử trong iterable trong mỗi vòng lặp.  \n",
    "    - iterable: Đối tượng có thể lặp, chẳng hạn như list, tuple, string, dictionary, range,...  \n",
    "    - Khối lệnh bên trong vòng lặp sẽ được thực thi với mỗi giá trị của variable.  \n",
    "\n",
    "    - Vòng lặp for trong Python giúp duyệt qua các phần tử trong iterable như list, tuple, set, string, dictionary,...  \n",
    "    - range() hữu ích khi cần duyệt qua một dãy số.  \n",
    "    - Các từ khóa break, continue, else giúp kiểm soát vòng lặp.  \n",
    "    - zip() và enumerate() giúp duyệt đồng thời nhiều danh sách và lấy chỉ mục.  \n",
    "    - Có thể lồng vòng lặp for để làm việc với dữ liệu phức tạp.  "
   ]
  },
  {
   "cell_type": "code",
   "execution_count": 7,
   "id": "63d44287",
   "metadata": {},
   "outputs": [
    {
     "name": "stdout",
     "output_type": "stream",
     "text": [
      "Volkswagen\n",
      "Mercedes-Benz\n",
      "BMW\n",
      "Audi\n",
      "Honda\n",
      "Toyota\n",
      "Bạn đã đi thử đủ 6 hãng xe!\n"
     ]
    }
   ],
   "source": [
    "# 1. Duyệt qua một danh sách (list)\n",
    "danh_sach_hang_xe = ['Volkswagen','Mercedes-Benz', 'BMW', 'Audi', 'Honda', 'Toyota'] # Đây là một list\n",
    "for hang_xe in danh_sach_hang_xe:\n",
    "    print(hang_xe)\n",
    "print('Bạn đã đi thử đủ 6 hãng xe!')"
   ]
  },
  {
   "cell_type": "code",
   "execution_count": 7,
   "id": "cd5b27ee",
   "metadata": {},
   "outputs": [
    {
     "name": "stdout",
     "output_type": "stream",
     "text": [
      "1\n",
      "2\n",
      "3\n",
      "4\n",
      "5\n"
     ]
    }
   ],
   "source": [
    "# 2.Sử dụng range\n",
    "# Hàm range(start, stop, step) tạo ra một dãy số từ start đến stop - 1 với bước nhảy step\n",
    "\n",
    "for i in range(1, 6):\n",
    "    print(i)"
   ]
  },
  {
   "cell_type": "code",
   "execution_count": 13,
   "id": "d565f11f-7894-428d-9fa5-57c7780a2596",
   "metadata": {},
   "outputs": [
    {
     "name": "stdout",
     "output_type": "stream",
     "text": [
      "1\n",
      "3\n",
      "5\n"
     ]
    }
   ],
   "source": [
    "for i in range(1, 6, 2):\n",
    "    print(i)"
   ]
  },
  {
   "cell_type": "code",
   "execution_count": 12,
   "id": "bf72dde4",
   "metadata": {},
   "outputs": [
    {
     "name": "stdout",
     "output_type": "stream",
     "text": [
      "6\n",
      "5\n",
      "4\n",
      "3\n",
      "2\n",
      "1\n"
     ]
    }
   ],
   "source": [
    "for i in range(6, 0, -1):\n",
    "    print(i)"
   ]
  },
  {
   "cell_type": "code",
   "execution_count": 14,
   "id": "c470f104-d0b9-4684-83e4-f6cbadddcde3",
   "metadata": {},
   "outputs": [
    {
     "name": "stdout",
     "output_type": "stream",
     "text": [
      "P\n",
      "y\n",
      "t\n",
      "h\n",
      "o\n",
      "n\n"
     ]
    }
   ],
   "source": [
    "# 3. Duyệt qua một chuỗi (string)\n",
    "for char in \"Python\":\n",
    "    print(char)"
   ]
  },
  {
   "cell_type": "code",
   "execution_count": 15,
   "id": "c20d663d-0b16-45ee-9a40-7a2963e8ed12",
   "metadata": {},
   "outputs": [
    {
     "name": "stdout",
     "output_type": "stream",
     "text": [
      "10\n",
      "20\n",
      "30\n"
     ]
    }
   ],
   "source": [
    "# 4. Duyệt qua một bộ (tuple)\n",
    "numbers = (10, 20, 30)\n",
    "for num in numbers:\n",
    "    print(num)\n"
   ]
  },
  {
   "cell_type": "code",
   "execution_count": null,
   "id": "4b77e7a9-cab2-48fc-b145-971f1f2b38dd",
   "metadata": {},
   "outputs": [],
   "source": [
    "# 4.Duyệt qua một tập hợp (set)\n",
    "colors = {\"red\", \"green\", \"blue\"}\n",
    "for color in colors:\n",
    "    print(color)"
   ]
  },
  {
   "cell_type": "code",
   "execution_count": null,
   "id": "c60fcf59-1d1f-45f6-becb-edb26533c365",
   "metadata": {},
   "outputs": [],
   "source": [
    "# 5. Duyệt qua một từ điển (dictionary)\n",
    "student = {\"name\": \"Alice\", \"age\": 20, \"city\": \"New York\"}\n",
    "for key, value in student.items():\n",
    "    print(f\"{key}: {value}\")\n",
    "\n",
    "# Nếu chỉ cần duyệt qua các khóa:\n",
    "for key in student:\n",
    "    print(key)"
   ]
  },
  {
   "cell_type": "markdown",
   "id": "7ab2aef1",
   "metadata": {},
   "source": [
    "## Sử dụng else "
   ]
  },
  {
   "cell_type": "code",
   "execution_count": 8,
   "id": "5eca63a8",
   "metadata": {},
   "outputs": [
    {
     "name": "stdout",
     "output_type": "stream",
     "text": [
      "1\n",
      "2\n",
      "3\n",
      "4\n",
      "5\n",
      "i không bé hơn 6 nữa!\n"
     ]
    }
   ],
   "source": [
    "i = 1\n",
    "while i < 6:\n",
    "    print(i)\n",
    "    i += 1 # i = i + 1\n",
    "else:\n",
    "    print('i không bé hơn 6 nữa!')"
   ]
  },
  {
   "cell_type": "code",
   "execution_count": null,
   "id": "0633b94c",
   "metadata": {},
   "outputs": [],
   "source": [
    "danh_sach_hang_xe = ['Volkswagen', 'Mercedes-Benz', 'BMW', 'Audi', 'Honda', 'Toyota']\n",
    "for hang_xe in danh_sach_hang_xe:\n",
    "    print(hang_xe)\n",
    "else:\n",
    "    print('Bạn đã đi thử đủ 6 hãng xe!')"
   ]
  },
  {
   "cell_type": "markdown",
   "id": "f20f940a",
   "metadata": {},
   "source": [
    "## Break\n",
    "Dùng break để dừng vòng lặp ngay khi điều kiện được thỏa mãn."
   ]
  },
  {
   "cell_type": "code",
   "execution_count": 16,
   "id": "afbe8f0e",
   "metadata": {},
   "outputs": [
    {
     "name": "stdout",
     "output_type": "stream",
     "text": [
      "1\n",
      "2\n",
      "3\n",
      "Xong\n"
     ]
    }
   ],
   "source": [
    "i = 1\n",
    "while i < 6:\n",
    "    print(i)\n",
    "    if i == 3:\n",
    "        break\n",
    "    i += 1\n",
    "print('Xong')"
   ]
  },
  {
   "cell_type": "code",
   "execution_count": 17,
   "id": "0c92ef0d",
   "metadata": {},
   "outputs": [
    {
     "name": "stdout",
     "output_type": "stream",
     "text": [
      "1\n",
      "2\n",
      "3\n"
     ]
    }
   ],
   "source": [
    "i = 1\n",
    "while i < 6:\n",
    "    print(i)\n",
    "    if i == 3:\n",
    "        break\n",
    "    i += 1\n",
    "else:\n",
    "    print('Xong')"
   ]
  },
  {
   "cell_type": "code",
   "execution_count": 9,
   "id": "608820fb",
   "metadata": {},
   "outputs": [
    {
     "name": "stdout",
     "output_type": "stream",
     "text": [
      "Xuất phát từ TPHCM\n",
      "\n",
      "Quãng đường 0 km - 10 km:\n"
     ]
    },
    {
     "name": "stdin",
     "output_type": "stream",
     "text": [
      "Có vi phạm đến mức tạm giữ xe? (1/0):  0\n"
     ]
    },
    {
     "name": "stdout",
     "output_type": "stream",
     "text": [
      "\n",
      "Quãng đường 10 km - 20 km:\n"
     ]
    },
    {
     "name": "stdin",
     "output_type": "stream",
     "text": [
      "Có vi phạm đến mức tạm giữ xe? (1/0):  0\n"
     ]
    },
    {
     "name": "stdout",
     "output_type": "stream",
     "text": [
      "\n",
      "Quãng đường 20 km - 30 km:\n"
     ]
    },
    {
     "name": "stdin",
     "output_type": "stream",
     "text": [
      "Có vi phạm đến mức tạm giữ xe? (1/0):  1\n"
     ]
    },
    {
     "name": "stdout",
     "output_type": "stream",
     "text": [
      "Xe của bạn đã bị tạm giữ. Bạn không thể thực hiện hành trình đến Vũng Tàu bằng xe của mình.\n"
     ]
    }
   ],
   "source": [
    "print('Xuất phát từ TPHCM')\n",
    "for quang_duong in range(12): # [0,1,2......,11]\n",
    "    print('\\nQuãng đường {} km - {} km:'.format(quang_duong*10, (quang_duong + 1)*10))\n",
    "    vi_pham = input('Có vi phạm đến mức tạm giữ xe? (1/0): ')\n",
    "    if vi_pham == '1':\n",
    "        print('Xe của bạn đã bị tạm giữ. Bạn không thể thực hiện hành trình đến Vũng Tàu bằng xe của mình.')\n",
    "        break\n",
    "else:\n",
    "    print('Bạn đã đi đến Vũng Tàu')"
   ]
  },
  {
   "cell_type": "markdown",
   "id": "77470bd0",
   "metadata": {},
   "source": [
    "## Continue\n",
    "Dùng continue để bỏ qua phần còn lại của vòng lặp và tiếp tục vòng lặp tiếp theo.\n"
   ]
  },
  {
   "cell_type": "code",
   "execution_count": 19,
   "id": "72e73abc",
   "metadata": {},
   "outputs": [
    {
     "name": "stdout",
     "output_type": "stream",
     "text": [
      "0\n",
      "1\n",
      "2\n",
      "4\n",
      "5\n",
      "6\n",
      "7\n",
      "8\n"
     ]
    }
   ],
   "source": [
    "for i in range(9):\n",
    "    if i == 3:\n",
    "        continue\n",
    "    print(i)"
   ]
  },
  {
   "cell_type": "code",
   "execution_count": null,
   "id": "44480d2b",
   "metadata": {},
   "outputs": [],
   "source": [
    "print('Xuất phát từ TPHCM')\n",
    "for quang_duong in range(12):\n",
    "    print('\\nQuãng đường {} km - {} km:'.format(quang_duong*10, (quang_duong + 1)*10))\n",
    "    vi_pham = input('Có vi phạm? (1/0): ')\n",
    "    if vi_pham == '1':\n",
    "        giu_xe = input('Lỗi vi phạm đến mức tạm giữ xe? (1/0): ')\n",
    "        if giu_xe == '1':    \n",
    "            print('Xe của bạn đã bị tạm giữ. Bạn không thể thực hiện hành trình đến Vũng Tàu bằng xe của mình.')\n",
    "            break\n",
    "        else:\n",
    "            print('Bạn đã bị lập biên bản vi phạm. Tuy nhiên bạn vẫn có thể thực hiện hành trình đến Vũng Tàu bằng xe của mình.')\n",
    "            continue\n",
    "    print('Tận hưởng hành trình thuận lợi của mình.')\n",
    "else:\n",
    "    print('Bạn đã đi đến Vũng Tàu')"
   ]
  },
  {
   "cell_type": "markdown",
   "id": "d87e81e0-372f-40cb-917f-7e06e3be0731",
   "metadata": {},
   "source": [
    "## else trong vòng lặp for\n",
    "Lệnh else trong vòng lặp for sẽ chạy khi vòng lặp hoàn thành mà không bị break."
   ]
  },
  {
   "cell_type": "code",
   "execution_count": 10,
   "id": "c1965426-1a52-4ae6-9b0d-a020cc358a00",
   "metadata": {},
   "outputs": [
    {
     "name": "stdout",
     "output_type": "stream",
     "text": [
      "0\n",
      "1\n",
      "2\n",
      "Vòng lặp đã hoàn thành.\n"
     ]
    }
   ],
   "source": [
    "for i in range(3):\n",
    "    print(i)\n",
    "else:\n",
    "    print(\"Vòng lặp đã hoàn thành.\")\n"
   ]
  },
  {
   "cell_type": "code",
   "execution_count": 12,
   "id": "71bf9dee-c70e-4e31-b289-7b357a396df8",
   "metadata": {},
   "outputs": [
    {
     "name": "stdout",
     "output_type": "stream",
     "text": [
      "0\n"
     ]
    }
   ],
   "source": [
    "for i in range(3):\n",
    "    if i == 1:\n",
    "        break\n",
    "    print(i)\n",
    "else:\n",
    "    print(\"Vòng lặp đã hoàn thành.\")\n"
   ]
  },
  {
   "cell_type": "markdown",
   "id": "56e42c85-49cd-47b1-9d28-2eb802104741",
   "metadata": {},
   "source": [
    "##  Duyệt qua nhiều danh sách cùng lúc với zip()\n",
    "    Hàm zip() kết hợp nhiều danh sách lại với nhau, cho phép duyệt chúng đồng thời."
   ]
  },
  {
   "cell_type": "code",
   "execution_count": null,
   "id": "57a9178e-8b4c-4635-8e09-d64c51ae9d3e",
   "metadata": {},
   "outputs": [],
   "source": [
    "names = [\"Alice\", \"Bob\", \"Charlie\"]\n",
    "ages = [25, 30, 35]\n",
    "\n",
    "for name, age in zip(names, ages):\n",
    "    print(f\"{name} is {age} years old.\")\n"
   ]
  },
  {
   "cell_type": "markdown",
   "id": "60259493-d550-4249-98d0-6203f312c62b",
   "metadata": {},
   "source": [
    "## Sử dụng enumerate() để lấy chỉ mục khi lặp\n",
    "    Hàm enumerate() giúp lấy cả chỉ mục (index) và giá trị trong vòng lặp."
   ]
  },
  {
   "cell_type": "code",
   "execution_count": null,
   "id": "13d5d084-cf77-4303-873d-06d79255e102",
   "metadata": {},
   "outputs": [],
   "source": [
    "fruits = [\"apple\", \"banana\", \"cherry\"]\n",
    "for index, fruit in enumerate(fruits):\n",
    "    print(f\"{index}: {fruit}\")\n"
   ]
  },
  {
   "cell_type": "markdown",
   "id": "76d19ff7-ab49-48d8-83d7-96d7a49bae04",
   "metadata": {},
   "source": [
    "## Lồng vòng lặp for (Nested loops)\n",
    "    Vòng lặp for có thể được lồng vào nhau để duyệt qua các cấu trúc dữ liệu phức tạp."
   ]
  },
  {
   "cell_type": "code",
   "execution_count": null,
   "id": "cec6fa53-677e-4225-a0af-d497583c00f0",
   "metadata": {},
   "outputs": [],
   "source": [
    "for i in range(1, 4):\n",
    "    for j in range(1, 4):\n",
    "        print(f\"({i}, {j})\", end=\" \")\n",
    "    print()\n"
   ]
  },
  {
   "cell_type": "markdown",
   "id": "86a5b198-d257-4f18-b912-f984fa20fdeb",
   "metadata": {},
   "source": [
    "## Duyệt qua danh sách theo cách ngược lại\n",
    "Dùng reversed() để lặp từ cuối lên đầu."
   ]
  },
  {
   "cell_type": "code",
   "execution_count": null,
   "id": "1c087b18-95e2-42ca-81bd-37e27bb75728",
   "metadata": {},
   "outputs": [],
   "source": [
    "for num in reversed(range(1, 6)):\n",
    "    print(num)\n"
   ]
  },
  {
   "cell_type": "code",
   "execution_count": null,
   "id": "b4e63a7e-8769-4bf2-a60a-280b9b98d069",
   "metadata": {},
   "outputs": [],
   "source": []
  }
 ],
 "metadata": {
  "kernelspec": {
   "display_name": "Python 3 (ipykernel)",
   "language": "python",
   "name": "python3"
  },
  "language_info": {
   "codemirror_mode": {
    "name": "ipython",
    "version": 3
   },
   "file_extension": ".py",
   "mimetype": "text/x-python",
   "name": "python",
   "nbconvert_exporter": "python",
   "pygments_lexer": "ipython3",
   "version": "3.10.4"
  }
 },
 "nbformat": 4,
 "nbformat_minor": 5
}
