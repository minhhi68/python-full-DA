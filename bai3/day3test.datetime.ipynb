{
 "cells": [
  {
   "cell_type": "code",
   "execution_count": 1,
   "id": "44e13ad8",
   "metadata": {},
   "outputs": [
    {
     "name": "stdout",
     "output_type": "stream",
     "text": [
      "Hom nay la:  2025-05-19\n",
      "Thang hien tai:  5\n",
      "Nam hien tai:  2025\n"
     ]
    }
   ],
   "source": [
    "import datetime\n",
    "hom_nay = datetime.date.today()\n",
    "print(\"Hom nay la: \", hom_nay)\n",
    "print:(\"Ngày hiện tại:\" , hom_nay.day )\n",
    "print(\"Thang hien tai: \", hom_nay.month)\n",
    "print(\"Nam hien tai: \", hom_nay.year)"
   ]
  },
  {
   "cell_type": "code",
   "execution_count": 3,
   "id": "041d2210",
   "metadata": {},
   "outputs": [],
   "source": [
    "from datetime import datetime # Chỉ import lớp datetime\n",
    "# import datetime"
   ]
  },
  {
   "cell_type": "code",
   "execution_count": 4,
   "id": "c3a81e57",
   "metadata": {},
   "outputs": [
    {
     "name": "stdout",
     "output_type": "stream",
     "text": [
      "2025-05-19 15:47:30.875136\n"
     ]
    }
   ],
   "source": [
    "# Lấy thời gian hiện tại\n",
    "now = datetime.now()  # Lấy thời gian hiện tại\n",
    "print(now)   # Ví dụ: 2025-03-11 14:30:15.123456\n"
   ]
  },
  {
   "cell_type": "code",
   "execution_count": 5,
   "id": "8ea79ef6",
   "metadata": {},
   "outputs": [
    {
     "name": "stdout",
     "output_type": "stream",
     "text": [
      "Năm: 2025\n",
      "Tháng: 5\n",
      "Ngày: 19\n",
      "Giờ: 15\n",
      "Phút: 47\n",
      "Giây: 30\n"
     ]
    }
   ],
   "source": [
    "# Năm tháng ngày \n",
    "print(\"Năm:\", now.year)\n",
    "print(\"Tháng:\", now.month)\n",
    "print(\"Ngày:\", now.day)\n",
    "# Giờ phút giây \n",
    "print(\"Giờ:\", now.hour)\n",
    "print(\"Phút:\", now.minute)\n",
    "print(\"Giây:\", now.second)"
   ]
  },
  {
   "cell_type": "code",
   "execution_count": 7,
   "id": "6b2dc11d",
   "metadata": {},
   "outputs": [
    {
     "name": "stdout",
     "output_type": "stream",
     "text": [
      "Ngày hôm nay: 2025-05-19\n",
      "Ngày sinh nhật tiếp theo: 2025-08-06\n",
      "Còn 79 ngày nữa đến sinh nhật\n"
     ]
    }
   ],
   "source": [
    "from datetime import date\n",
    "ngay_hom_nay = date.today()\n",
    "print(\"Ngày hôm nay:\", ngay_hom_nay)  # Ví dụ: 2025-03-11\n",
    "\n",
    "ngay_sinh_nhat_ke_tiep = date(2025, 8, 6)\n",
    "print(\"Ngày sinh nhật tiếp theo:\", ngay_sinh_nhat_ke_tiep)  # Ví dụ: 2025-03-11\n",
    "\n",
    "so_ngay = ngay_sinh_nhat_ke_tiep - ngay_hom_nay\n",
    "print(\"Còn\", so_ngay.days, \"ngày nữa đến sinh nhật\")  # Ví dụ: Còn 5 ngày nữa đến sinh nhật\n",
    "\n"
   ]
  },
  {
   "cell_type": "code",
   "execution_count": 11,
   "id": "93756cda",
   "metadata": {},
   "outputs": [
    {
     "name": "stdout",
     "output_type": "stream",
     "text": [
      "2025-03-11 21:30:00\n",
      "<class 'datetime.datetime'>\n"
     ]
    }
   ],
   "source": [
    "# Tạo một đối tượng datetime tùy chỉnh\n",
    "dt = datetime(2025, 3, 11, 21, 30, 0)\n",
    "print(dt)  # 2025-03-11 14:30:00\n",
    "print(type(dt))"
   ]
  },
  {
   "cell_type": "code",
   "execution_count": 13,
   "id": "edfbbc0f",
   "metadata": {},
   "outputs": [
    {
     "name": "stdout",
     "output_type": "stream",
     "text": [
      "21:30:00\n"
     ]
    }
   ],
   "source": [
    "from datetime import time\n",
    "\n",
    "t = time(21,30, 0)\n",
    "print(t)  # 14:30:00"
   ]
  },
  {
   "cell_type": "code",
   "execution_count": 14,
   "id": "88e63e35",
   "metadata": {},
   "outputs": [
    {
     "data": {
      "text/plain": [
       "time.struct_time(tm_year=2025, tm_mon=5, tm_mday=19, tm_hour=20, tm_min=45, tm_sec=46, tm_wday=0, tm_yday=139, tm_isdst=0)"
      ]
     },
     "execution_count": 14,
     "metadata": {},
     "output_type": "execute_result"
    }
   ],
   "source": [
    "import time\n",
    "# Lấy thời gian hiện tại\n",
    "current_time = time.localtime()\n",
    "current_time "
   ]
  },
  {
   "cell_type": "code",
   "execution_count": 15,
   "id": "1eb5710a",
   "metadata": {},
   "outputs": [
    {
     "name": "stdout",
     "output_type": "stream",
     "text": [
      "time.struct_time(tm_year=2025, tm_mon=5, tm_mday=19, tm_hour=20, tm_min=45, tm_sec=46, tm_wday=0, tm_yday=139, tm_isdst=0)\n"
     ]
    }
   ],
   "source": [
    "print(current_time)"
   ]
  },
  {
   "cell_type": "code",
   "execution_count": 18,
   "id": "ec369ed6",
   "metadata": {},
   "outputs": [
    {
     "name": "stdout",
     "output_type": "stream",
     "text": [
      "Ngày mai: 2025-05-20 20:50:11.448832\n"
     ]
    }
   ],
   "source": [
    "from datetime import datetime, timedelta\n",
    "tomorrow = datetime.now() + timedelta(days=1)\n",
    "print(\"Ngày mai:\", tomorrow)  # Ví dụ: 2025-03-12 14:30:15.123456"
   ]
  }
 ],
 "metadata": {
  "kernelspec": {
   "display_name": "base",
   "language": "python",
   "name": "python3"
  },
  "language_info": {
   "codemirror_mode": {
    "name": "ipython",
    "version": 3
   },
   "file_extension": ".py",
   "mimetype": "text/x-python",
   "name": "python",
   "nbconvert_exporter": "python",
   "pygments_lexer": "ipython3",
   "version": "3.12.7"
  }
 },
 "nbformat": 4,
 "nbformat_minor": 5
}
