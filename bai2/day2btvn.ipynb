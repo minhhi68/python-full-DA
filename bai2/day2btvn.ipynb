{
 "cells": [
  {
   "cell_type": "code",
   "execution_count": 6,
   "id": "7f7737c2",
   "metadata": {},
   "outputs": [
    {
     "name": "stdout",
     "output_type": "stream",
     "text": [
      "Với mức chi tiêu là 222222 VND, người dùng thuộc nhóm Tiêu chuẩn.\n"
     ]
    }
   ],
   "source": [
    "#Nhập mức chi tiêu của nguời dùng\n",
    "muc_chi_tieu = int(input(\"Nhập mức chi tiêu (VND): \"))\n",
    "\n",
    "#Phân loại mức chi tiêu\n",
    "if muc_chi_tieu < 10000000:\n",
    "    nhom = \"Tiêu chuẩn\"\n",
    "elif muc_chi_tieu < 500000000:\n",
    "    nhom = \"Bạc\"\n",
    "elif muc_chi_tieu < 100000000:\n",
    "    nhom = \"Vàng\"\n",
    "else:\n",
    "    nhom = \"Platinum\"\n",
    "    \n",
    "#In ra kết quả\n",
    "print(f\"Với mức chi tiêu là {muc_chi_tieu} VND, người dùng thuộc nhóm {nhom}.\")"
   ]
  },
  {
   "cell_type": "code",
   "execution_count": 7,
   "id": "bf360f94",
   "metadata": {},
   "outputs": [
    {
     "name": "stdout",
     "output_type": "stream",
     "text": [
      "Tổng giá trị giao dịch là: 0 VND\n"
     ]
    }
   ],
   "source": [
    "# Tổng hợp các giao dịch\n",
    "# Khởi tạo biến tổng\n",
    "tong_giao_dich = 0\n",
    "\n",
    "# Vòng lặp để nhập các giao dịch\n",
    "while True:\n",
    "    gia_tri = int(input(\"Nhập giá trị giao dịch (hoặc nhập 0 để kết thúc): \"))\n",
    "    if gia_tri == 0:\n",
    "        break\n",
    "    tong_giao_dich += gia_tri\n",
    "\n",
    "# In ra tổng giao dịch\n",
    "print(f\"Tổng giá trị giao dịch là: {tong_giao_dich} VND\")\n"
   ]
  },
  {
   "cell_type": "code",
   "execution_count": 8,
   "id": "9a9aca20",
   "metadata": {},
   "outputs": [
    {
     "name": "stdout",
     "output_type": "stream",
     "text": [
      "\n",
      "Tên loại phòng: Standard - Số đêm: 1 - Thành tiền: 1260000 VND\n"
     ]
    }
   ],
   "source": [
    "#2.3 Tính tiền thuê phòng resort\n",
    "\n",
    "#Danh sách các loai phòng\n",
    "loai_phong = {\n",
    "1: (\"Standard\", 1260000),\n",
    "2: (\"Superior Garden View\", 1550000),\n",
    "3: (\"Superior Ocean View\", 1830000),\n",
    "4: (\"Garden View Bungalow\", 1830000),\n",
    "5: (\"Pool View Bungalow\", 2120000),\n",
    "6: (\"Family Room\", 2120000),\n",
    "7: (\"Beach Front Bungalow\", 2540000),\n",
    "8: (\"VIP Sea View\", 4800000)\n",
    "\n",
    "}\n",
    "\n",
    "#Nhập dữ liệu từ người dùng\n",
    "ma_loai = int(input(\"Nhập mã loại phòng (1-8): \"))\n",
    "so_dem = int(input(\"Nhập số đêm lưu trú: \"))\n",
    "\n",
    "#Lấy thông tin loại phòng\n",
    "ten_phong, gia_1_dem = loai_phong.get(ma_loai)\n",
    "\n",
    "# Tính giá theo số đêm và mức giảm\n",
    "if 2 <= so_dem <= 3:\n",
    "    gia_thue = gia_1_dem * so_dem * 0.75  # Giảm 25%\n",
    "elif so_dem >= 4:\n",
    "    gia_thue = gia_1_dem * so_dem * 0.70 # Giảm 35%\n",
    "else:\n",
    "    gia_thue = gia_1_dem * so_dem # Không giảm\n",
    "    \n",
    "    \n",
    "# Xuất kết quả\n",
    "print(f\"\\nTên loại phòng: {ten_phong} - Số đêm: {so_dem} - Thành tiền: {gia_thue} VND\")"
   ]
  },
  {
   "cell_type": "code",
   "execution_count": 9,
   "id": "bc68c4fd",
   "metadata": {},
   "outputs": [
    {
     "name": "stdout",
     "output_type": "stream",
     "text": [
      "\n",
      "Số tiền giảm trừ: 184800000 VND\n",
      "Tổng thu nhập tính thuế: 0 VND\n",
      "Số thuế phải nộp: 0 VND\n"
     ]
    }
   ],
   "source": [
    "#2.4 Tính thuế thu nhập cá nhân\n",
    "\n",
    "# Hàm tính thuế theo biểu thuế luỹ tiến từng phần\n",
    "\n",
    "def tinh_thue_thu_nhap(tntt): #tntt = thu nhập tính thuế\n",
    "    bac_thue = [\n",
    "        (60_000_000, 0.05),\n",
    "        (120_000_000, 0.10),\n",
    "        (216_000_000, 0.15),\n",
    "        (384_000_000, 0.20),\n",
    "        (624_000_000, 0.25),\n",
    "        (960_000_000, 0.30),\n",
    "        float('inf'), 0.35\n",
    "    ]\n",
    "    \n",
    "    thue = 0 \n",
    "    thu_nhap_con_lai = tntt\n",
    "    mien_thue_truoc = 0\n",
    "    \n",
    "    for gioi_han, thue_suat in bac_thue:\n",
    "        muc_chiu_thue = min(thu_nhap_con_lai, gioi_han - mien_thue_truoc)\n",
    "        if muc_chiu_thue > 0:\n",
    "            thue += muc_chiu_thue * thue_suat\n",
    "            thu_nhap_con_lai -= muc_chiu_thue\n",
    "            mien_thue_truoc = gioi_han\n",
    "        else:\n",
    "            break\n",
    "    return thue\n",
    "# Nhập dữ liệu từ người dùng\n",
    "tong_thu_nhap = int(input(\"Nhập tổng thu nhập (VND): \"))\n",
    "so_nguoi_phu_thuoc = int(input(\"Nhập số người phụ thuộc: \"))\n",
    "\n",
    "# Tính giảm trừ gia cảnh\n",
    "giam_tru_ban_than = 132000000\n",
    "giam_tru_phu_thuoc = so_nguoi_phu_thuoc *52800000\n",
    "tong_giam_tru = giam_tru_ban_than + giam_tru_phu_thuoc\n",
    "\n",
    "# Tính thu nhập tính thuế\n",
    "thu_nhap_tinh_thue = tong_thu_nhap - tong_giam_tru\n",
    "thu_nhap_tinh_thue = max(thu_nhap_tinh_thue, 0)  # Đảm bảo không âm\n",
    "\n",
    "#Tính thuế phải nộp\n",
    "tien_thue = tinh_thue_thu_nhap(thu_nhap_tinh_thue)\n",
    "\n",
    "# In ra kết quả\n",
    "print(f\"\\nSố tiền giảm trừ: {tong_giam_tru} VND\")\n",
    "print(f\"Tổng thu nhập tính thuế: {thu_nhap_tinh_thue} VND\")\n",
    "print(f\"Số thuế phải nộp: {tien_thue} VND\")\n",
    "\n"
   ]
  },
  {
   "cell_type": "code",
   "execution_count": 5,
   "id": "f5e7c9e2",
   "metadata": {},
   "outputs": [
    {
     "name": "stdout",
     "output_type": "stream",
     "text": [
      "Dăng nhập thành công!\n"
     ]
    }
   ],
   "source": [
    "#2.5 Tính số lần nhập sai mật khẩu tài khoản\n",
    "#Vòng lặp cho phép nhập tối đa 3 lần\n",
    "so_lan_thu = 0\n",
    "toi_da_thu = 3\n",
    "\n",
    "while so_lan_thu < toi_da_thu:\n",
    "    mat_khau = input(\"Nhập mật khẩu: \")\n",
    "    #Kiểm tra mật khẩu\n",
    "    if len(mat_khau) == 8 and mat_khau.isdigit():\n",
    "        print(\"Dăng nhập thành công!\")\n",
    "        break\n",
    "    else:\n",
    "        so_lan_thu += 1\n",
    "        lan_con_lai = toi_da_thu - so_lan_thu\n",
    "        if lan_con_lai > 0:\n",
    "            print(f\"Mật khẩu không hợp lệ! Bạn còn {lan_con_lai} lần thử.\")\n",
    "        else:\n",
    "            print(\"Tài khoản bị vô hiệu hoá do nhập sai quá 3 lần!\")"
   ]
  },
  {
   "cell_type": "code",
   "execution_count": null,
   "id": "5a54b527",
   "metadata": {},
   "outputs": [],
   "source": [
    "#2.6 Tính lãi suất từng tháng trong 1 năm\n",
    "#Nhập số tiền gửi\n",
    "so_tien_gui = float(input(\"Nhập số tiền gửi (VND): \"))\n",
    "\n",
    "#Thiết lập lãi suất hàng tháng\n",
    "lai_suat_hang_thang = 0.06 / 12 # 6%/năm\n",
    "\n",
    "#Tính lãi suất hàng tháng trong 12 tháng\n",
    "for thang in range(1, 13):\n",
    "    lai_suat = so_tien_gui * lai_suat_hang_thang\n",
    "    so_tien_gui += tien_lai\n",
    "    print(f\"Tháng {thang}: Tiền lãi = {tien_lai:.4f} VND, Số tiền sau lãi = {so_tien_gui:.4f} VND\")\n",
    "    "
   ]
  },
  {
   "cell_type": "code",
   "execution_count": 12,
   "id": "70efd7a6",
   "metadata": {},
   "outputs": [
    {
     "name": "stdout",
     "output_type": "stream",
     "text": [
      "Tháng 1: Tiền lãi = 1160000.0000 VND, Số tiền sau lãi = 233160000.0000 VND\n",
      "Tháng 2: Tiền lãi = 1165800.0000 VND, Số tiền sau lãi = 234325800.0000 VND\n",
      "Tháng 3: Tiền lãi = 1171629.0000 VND, Số tiền sau lãi = 235497429.0000 VND\n",
      "Tháng 4: Tiền lãi = 1177487.1450 VND, Số tiền sau lãi = 236674916.1450 VND\n",
      "Tháng 5: Tiền lãi = 1183374.5807 VND, Số tiền sau lãi = 237858290.7257 VND\n",
      "Tháng 6: Tiền lãi = 1189291.4536 VND, Số tiền sau lãi = 239047582.1794 VND\n",
      "Tháng 7: Tiền lãi = 1195237.9109 VND, Số tiền sau lãi = 240242820.0903 VND\n",
      "Tháng 8: Tiền lãi = 1201214.1005 VND, Số tiền sau lãi = 241444034.1907 VND\n",
      "Tháng 9: Tiền lãi = 1207220.1710 VND, Số tiền sau lãi = 242651254.3617 VND\n",
      "Tháng 10: Tiền lãi = 1213256.2718 VND, Số tiền sau lãi = 243864510.6335 VND\n",
      "Tháng 11: Tiền lãi = 1219322.5532 VND, Số tiền sau lãi = 245083833.1866 VND\n",
      "Tháng 12: Tiền lãi = 1225419.1659 VND, Số tiền sau lãi = 246309252.3526 VND\n"
     ]
    }
   ],
   "source": [
    "#2.6 Tính lãi suất từng tháng trong 1 năm\n",
    "#Nhập số tiền gửi\n",
    "so_tien_gui = float(input(\"Nhập số tiền gửi (VND): \"))\n",
    "\n",
    "#Thiết lập lãi suất hàng tháng\n",
    "lai_suat_hang_thang = 0.06 / 12 # 6%/năm\n",
    "\n",
    "#Tính lãi suất hàng tháng trong 12 tháng\n",
    "for thang in range(1, 13):\n",
    "    tien_lai = so_tien_gui * lai_suat_hang_thang\n",
    "    so_tien_gui += tien_lai\n",
    "    print(f\"Tháng {thang}: Tiền lãi = {tien_lai:.4f} VND, Số tiền sau lãi = {so_tien_gui:.4f} VND\")"
   ]
  }
 ],
 "metadata": {
  "kernelspec": {
   "display_name": "base",
   "language": "python",
   "name": "python3"
  },
  "language_info": {
   "codemirror_mode": {
    "name": "ipython",
    "version": 3
   },
   "file_extension": ".py",
   "mimetype": "text/x-python",
   "name": "python",
   "nbconvert_exporter": "python",
   "pygments_lexer": "ipython3",
   "version": "3.12.7"
  }
 },
 "nbformat": 4,
 "nbformat_minor": 5
}
