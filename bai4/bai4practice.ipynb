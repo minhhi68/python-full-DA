{
 "cells": [
  {
   "cell_type": "code",
   "execution_count": 1,
   "id": "e6678b8a",
   "metadata": {},
   "outputs": [
    {
     "name": "stdout",
     "output_type": "stream",
     "text": [
      "Hello, Alice!\n",
      "None\n"
     ]
    }
   ],
   "source": [
    "## Hàm do người dùng định nghĩa thì xài `def`\n",
    "def greet(name):\n",
    "    print(f\"Hello, {name}!\")\n",
    "    \n",
    "print(greet(\"Alice\"))"
   ]
  },
  {
   "cell_type": "code",
   "execution_count": null,
   "id": "ddf19e71",
   "metadata": {},
   "outputs": [],
   "source": [
    "#Hàm không trả về giá trị\n",
    "def tinh_diem_trung_binh(hk1, hk2):\n",
    "    dtb = (hk1 + hk2 * 2) / 3\n",
    "    print(f\"Điểm trung bình là: {dtb}\")\n",
    "    \n"
   ]
  },
  {
   "cell_type": "code",
   "execution_count": 5,
   "id": "463f5fae",
   "metadata": {},
   "outputs": [],
   "source": [
    "#Hàm trả về 1 giá trị\n",
    "def tinh_diem_trung_binh_2(hk1, hk2):\n",
    "    dtb = (hk1 + hk2 * 2) / 3\n",
    "    return dtb"
   ]
  },
  {
   "cell_type": "code",
   "execution_count": null,
   "id": "3da50fe1",
   "metadata": {},
   "outputs": [],
   "source": [
    "def tinh_bmi(can_nang, chieu_cao):\n",
    "    bmi = can_nang / (chieu_cao ** 2)\n",
    "    return bmi\n"
   ]
  },
  {
   "cell_type": "code",
   "execution_count": null,
   "id": "95c5e01a",
   "metadata": {},
   "outputs": [],
   "source": [
    "def danh_gia_dmi(bmi):\n",
    "    if bmi < 18.5:\n",
    "        return \"Gầy\"\n",
    "    elif bmi < 24.9:\n",
    "        return \"Bình thường\"\n",
    "    elif bmi < 29.9:\n",
    "        return \"Thừa cân\"\n",
    "    else:\n",
    "        return \"Béo phì\""
   ]
  },
  {
   "cell_type": "code",
   "execution_count": null,
   "id": "7cdc2e89",
   "metadata": {},
   "outputs": [],
   "source": [
    "chi_so_bmi = tinh_bmi(67, 1.75)\n",
    "print('Chỉ số BMI:', chi_so_bmi)\n",
    "print(danh_gia_dmi(chi_so_bmi))\n",
    "\n"
   ]
  }
 ],
 "metadata": {
  "kernelspec": {
   "display_name": "base",
   "language": "python",
   "name": "python3"
  },
  "language_info": {
   "codemirror_mode": {
    "name": "ipython",
    "version": 3
   },
   "file_extension": ".py",
   "mimetype": "text/x-python",
   "name": "python",
   "nbconvert_exporter": "python",
   "pygments_lexer": "ipython3",
   "version": "3.12.7"
  }
 },
 "nbformat": 4,
 "nbformat_minor": 5
}
