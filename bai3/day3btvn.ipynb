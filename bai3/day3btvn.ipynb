{
 "cells": [
  {
   "cell_type": "code",
   "execution_count": null,
   "id": "0148b828",
   "metadata": {},
   "outputs": [],
   "source": [
    "#3.1 Phân tích email khách hàng\n",
    "emails = []\n",
    "while True:\n",
    "    email = input(\"Nhập email khách hàng: \")\n",
    "    if email == '0':\n",
    "        break\n",
    "    emails.append(email)\n",
    "\n",
    "print(\"\\nTên khách hàng:\\tTên miền:\")\n",
    "for email in emails:\n",
    "    # Tách email thành 2 phần: tên khách và tên miền\n",
    "    parts = email.split('@')\n",
    "    if len(parts) == 2:\n",
    "        print(f\"{parts[0]:<15}\\t{parts[1]}\")\n",
    "    else:\n",
    "        print(f\"{email:<15}\\tKhông hợp lệ\")\n",
    "\n"
   ]
  },
  {
   "cell_type": "code",
   "execution_count": 2,
   "id": "68a9a97a",
   "metadata": {},
   "outputs": [],
   "source": [
    "#3.2"
   ]
  },
  {
   "cell_type": "code",
   "execution_count": 1,
   "id": "a4318a31",
   "metadata": {},
   "outputs": [
    {
     "name": "stdout",
     "output_type": "stream",
     "text": [
      "Tìm thấy: 13 từ trong chuỗi là số nguyên\n",
      "Tổng các giá trị số nguyên là:\n",
      "1 + 0 + 1994 + 2 + 0 + 16 + 10 + 2000 + 3 + 0 + 3 + 12 + 2008 = 6049\n"
     ]
    }
   ],
   "source": [
    "import re \n",
    "\n",
    "text = \"\"\" Python 1.0 đã được ra mắt vào năm 1994 với các hàm mới để dễ dàng xử lý danh sách dữ liệu, chẳng hạn như ánh xạ, lọc và lược bỏ.\n",
    "Python 2.0 đã được ra mắt vào ngày 16 tháng 10 năm 2000, với các tính năng hữu ích mới cho lập trình viên, chẳng hạn như hỗ trợ ký tự Unicode và cách xử lý chi tiết một danh sách nhanh chóng hơn.\n",
    "\n",
    "Python 3.0 đã được phát hành vào ngày 3 tháng 12 năm 2008. Phiên bản này bao gồm các tính năng như hàm in và hỗ trợ nhiều hơn cho việc phân chia số và xử lý lỗi.\"\"\"\n",
    "\n",
    "#Tìm tát cả số nguyên trong chuỗi (sử dung regex)\n",
    "numbers = re.findall(r'\\b\\d+\\b', text)\n",
    "\n",
    "#Chuyển tất cả các số tìm được thành kiểu int\n",
    "int_numbers = list(map(int, numbers))\n",
    "\n",
    "#Đếm số lượng số nguyên\n",
    "count = len(int_numbers)\n",
    "\n",
    "#Tính tổng các số nguyên\n",
    "total = sum(int_numbers)\n",
    "\n",
    "print(f\"Tìm thấy: {count} từ trong chuỗi là số nguyên\")\n",
    "print(f\"Tổng các giá trị số nguyên là:\")\n",
    "print(\" + \".join(map(str, int_numbers)), \"=\", total)"
   ]
  },
  {
   "cell_type": "code",
   "execution_count": 2,
   "id": "164573a5",
   "metadata": {},
   "outputs": [
    {
     "name": "stdout",
     "output_type": "stream",
     "text": [
      "Ngày hiện tại trên hệ thống: 23/05/2025\n",
      "Ngày sinh nhật tiếp theo: 06/08/2025\n",
      "Còn lại 74 ngày đến sinh nhật lần thứ 23 của bạn\n"
     ]
    }
   ],
   "source": [
    "#3.3 Tính ngày sinh nhật\n",
    "from datetime import datetime, timedelta\n",
    "#Hàm tính ngày sinh nhật tiếp theo và số ngày đến đó\n",
    "def next_birthday(birth_date, current_date):\n",
    "    #Tạo ngày sinh nhật trong năm hiện tại\n",
    "    birth_date_this_year = birth_date.replace(year=current_date.year)\n",
    "    #Nếu ngày sinh nhật đã qua trong năm hiện tại, tính ngày sinh nhật năm sau\n",
    "    if birth_date_this_year < current_date:\n",
    "        birth_date_next = birth_date_this_year.replace(year=current_date.year + 1)\n",
    "        age = current_date.year - birth_date.year + 1\n",
    "    else:\n",
    "        birth_date_next = birth_date_this_year\n",
    "        age = current_date.year - birth_date.year   \n",
    "        \n",
    "    days_until_birthday = (birth_date_next - current_date).days\n",
    "    return birth_date_next, days_until_birthday, age\n",
    "\n",
    "#Nhập ngày sinh nhật từ người dùng\n",
    "birth_date_str = input(\"Nhập ngày sinh nhật (dd/mm/yyyy): \")\n",
    "birth_date = datetime.strptime(birth_date_str, \"%d/%m/%Y\")\n",
    "\n",
    "#Lấy ngày hiện tại\n",
    "current_date = datetime.now()\n",
    "\n",
    "#Tính ngày sinh nhật tiếp theo, số ngày còn lại và số lần sinh nhật\n",
    "next_birthday_date, days_until_birthday, age = next_birthday(birth_date, current_date)\n",
    "#In kết quả\n",
    "print(f\"Ngày hiện tại trên hệ thống: {current_date.strftime('%d/%m/%Y')}\")\n",
    "print(f\"Ngày sinh nhật tiếp theo: {next_birthday_date.strftime('%d/%m/%Y')}\")\n",
    "print(f\"Còn lại {days_until_birthday} ngày đến sinh nhật lần thứ {age} của bạn\")"
   ]
  },
  {
   "cell_type": "code",
   "execution_count": 3,
   "id": "b69badb2",
   "metadata": {},
   "outputs": [
    {
     "name": "stdout",
     "output_type": "stream",
     "text": [
      "Ngày bắt đầu: 2002-08-06\n",
      "Ngày kết thúc: 2002-10-06\n",
      "Số tháng giữa 2 ngày: 2 tháng\n"
     ]
    }
   ],
   "source": [
    "#3.4 Tính số tháng giữa 2 ngày\n",
    "from datetime import datetime\n",
    "\n",
    "#Nhập ngày bắt đầu và ngày kêt thúc từ người dùng thep định dạng dd/mm/yyyy\n",
    "start_date_str = input(\"Nhập ngày bắt đầu (dd/mm/yyyy): \")\n",
    "end_date_str = input(\"Nhập ngày kết thúc (dd/mm/yyyy): \")\n",
    "\n",
    "#Chuyển đổi chuỗi thành đối tượng datetime\n",
    "start_date = datetime.strptime(start_date_str, \"%d/%m/%Y\")\n",
    "end_date = datetime.strptime(end_date_str, \"%d/%m/%Y\")\n",
    "\n",
    "#Tính số tháng giữa 2 ngày theo công thức\n",
    "months_difference = (end_date.year - start_date.year) * 12 + (end_date.month - start_date.month)\n",
    "\n",
    "#In kết quả\n",
    "print(f\"Ngày bắt đầu: {start_date.date()}\")\n",
    "print(f\"Ngày kết thúc: {end_date.date()}\")\n",
    "print(f\"Số tháng giữa 2 ngày: {months_difference} tháng\")"
   ]
  }
 ],
 "metadata": {
  "kernelspec": {
   "display_name": "base",
   "language": "python",
   "name": "python3"
  },
  "language_info": {
   "codemirror_mode": {
    "name": "ipython",
    "version": 3
   },
   "file_extension": ".py",
   "mimetype": "text/x-python",
   "name": "python",
   "nbconvert_exporter": "python",
   "pygments_lexer": "ipython3",
   "version": "3.12.7"
  }
 },
 "nbformat": 4,
 "nbformat_minor": 5
}
